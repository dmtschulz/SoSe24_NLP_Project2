{
 "cells": [
  {
   "cell_type": "code",
   "execution_count": 57,
   "metadata": {},
   "outputs": [
    {
     "name": "stderr",
     "output_type": "stream",
     "text": [
      "[nltk_data] Downloading package words to\n",
      "[nltk_data]     C:\\Users\\PC\\AppData\\Roaming\\nltk_data...\n",
      "[nltk_data]   Package words is already up-to-date!\n"
     ]
    },
    {
     "data": {
      "text/plain": [
       "True"
      ]
     },
     "execution_count": 57,
     "metadata": {},
     "output_type": "execute_result"
    }
   ],
   "source": [
    "import pandas as pd\n",
    "import matplotlib.pyplot as plt\n",
    "import seaborn as sns\n",
    "from collections import Counter\n",
    "import codecs\n",
    "from tabulate import tabulate\n",
    "import re\n",
    "import string\n",
    "\n",
    "import nltk\n",
    "from nltk.tokenize import word_tokenize\n",
    "from num2words import num2words\n",
    "nltk.download('words')  # Ensure NLTK words corpus is downloaded"
   ]
  },
  {
   "cell_type": "markdown",
   "metadata": {},
   "source": [
    "# Task 1: Data exploration and Sampling"
   ]
  },
  {
   "cell_type": "code",
   "execution_count": 58,
   "metadata": {},
   "outputs": [],
   "source": [
    "# Function to read text files safely\n",
    "def read_text_file(file_path):\n",
    "    with codecs.open(file_path, 'r', encoding='utf-8') as file:\n",
    "        sentences = file.readlines()\n",
    "    return sentences\n",
    "\n",
    "# Function to calculate most frequent word\n",
    "def most_frequent_word(text):\n",
    "    words = text.split()\n",
    "    word_freq = Counter(words)\n",
    "    return word_freq.most_common(1)[0][0]\n",
    "\n",
    "# Function to calculate unique words count\n",
    "def count_unique_words(text):\n",
    "    words = text.split()\n",
    "    return len(set(words))\n",
    "\n",
    "# Function to calculate numeral frequencies\n",
    "def count_numerals(text):\n",
    "    numeral_count = Counter(char for char in text if char.isdigit())\n",
    "    return numeral_count\n",
    "\n",
    "# File paths\n",
    "en_file_path = 'de-en/europarl-v7.de-en.en'  # English language file\n",
    "de_file_path = 'de-en/europarl-v7.de-en.de'  # German language file\n",
    "\n",
    "# Read the files\n",
    "en_sentences = read_text_file(en_file_path)\n",
    "de_sentences = read_text_file(de_file_path)\n",
    "\n",
    "# Create a DataFrame\n",
    "df = pd.DataFrame({'en': en_sentences, 'de': de_sentences})"
   ]
  },
  {
   "cell_type": "code",
   "execution_count": 59,
   "metadata": {},
   "outputs": [],
   "source": [
    "# Randomly select 10% of the data\n",
    "df_sampled = df.sample(frac=0.10, random_state=42)"
   ]
  },
  {
   "cell_type": "markdown",
   "metadata": {},
   "source": [
    "## Stats"
   ]
  },
  {
   "cell_type": "code",
   "execution_count": 3,
   "metadata": {},
   "outputs": [
    {
     "name": "stdout",
     "output_type": "stream",
     "text": [
      "+-------------------------------------------------------+-------------------------------------------------------------------------------------------------------------------------------------------------------------------------+\n",
      "|                       Statistic                       |                                                                                  Value                                                                                  |\n",
      "+-------------------------------------------------------+-------------------------------------------------------------------------------------------------------------------------------------------------------------------------+\n",
      "|                  Number of sentences                  |                                                                                 1920209                                                                                 |\n",
      "|                 Total words (English)                 |                                                                                47882343                                                                                 |\n",
      "|                 Total words (German)                  |                                                                                44614285                                                                                 |\n",
      "|                Unique words (English)                 |                                                                                 295397                                                                                  |\n",
      "|                 Unique words (German)                 |                                                                                 639030                                                                                  |\n",
      "|             Average word length (English)             |                                                                            4.990882066903033                                                                            |\n",
      "|             Average word length (German)              |                                                                            6.235660147865196                                                                            |\n",
      "|           Average sentence length (English)           |                                                                           149.44057704135332                                                                            |\n",
      "|           Average sentence length (German)            |                                                                            168.162314102267                                                                             |\n",
      "| Average sentence length difference (English - German) |                                                                           -18.721737060913682                                                                           |\n",
      "|             Most frequent word (English)              |                                                                                   the                                                                                   |\n",
      "|              Most frequent word (German)              |                                                                                   die                                                                                   |\n",
      "|             Numerals frequency (English)              |      Counter({'0': 288232, '2': 166457, '1': 160508, '9': 98572, '5': 69014, '3': 58924, '4': 51961, '7': 43915, '6': 42635, '8': 42611, '²': 9, '¹': 1, '³': 1})       |\n",
      "|              Numerals frequency (German)              | Counter({'0': 293962, '2': 168461, '1': 160472, '9': 97392, '5': 69504, '3': 59165, '4': 51977, '7': 44408, '8': 42879, '6': 42873, '²': 27, '³': 23, '₂': 10, '¹': 2}) |\n",
      "+-------------------------------------------------------+-------------------------------------------------------------------------------------------------------------------------------------------------------------------------+\n"
     ]
    }
   ],
   "source": [
    "# Basic statistics\n",
    "num_sentences = len(df)\n",
    "en_lengths = df['en'].str.len()\n",
    "de_lengths = df['de'].str.len()\n",
    "length_diff = en_lengths - de_lengths\n",
    "\n",
    "# Calculate total number of words, unique words, and average word length\n",
    "def calculate_word_stats(text):\n",
    "    words = text.split()\n",
    "    num_words = len(words)\n",
    "    unique_words = count_unique_words(text)\n",
    "    avg_word_length = sum(len(word) for word in words) / num_words\n",
    "    return num_words, unique_words, avg_word_length\n",
    "\n",
    "en_num_words, unique_en_words, awl_en = calculate_word_stats(' '.join(df['en']))\n",
    "de_num_words, unique_de_words, awl_de = calculate_word_stats(' '.join(df['de']))\n",
    "\n",
    "# Calculate most frequent words\n",
    "most_freq_word_en = most_frequent_word(' '.join(df['en']))\n",
    "most_freq_word_de = most_frequent_word(' '.join(df['de']))\n",
    "\n",
    "# Calculate numeral frequencies\n",
    "numeral_freq_en = count_numerals(' '.join(df['en']))\n",
    "numeral_freq_de = count_numerals(' '.join(df['de']))\n",
    "\n",
    "# Summary statistics\n",
    "summary_stats = [\n",
    "    ['Number of sentences', num_sentences],\n",
    "    ['Total words (English)', en_num_words],\n",
    "    ['Total words (German)', de_num_words],\n",
    "    ['Unique words (English)', unique_en_words],\n",
    "    ['Unique words (German)', unique_de_words],\n",
    "    ['Average word length (English)', awl_en],\n",
    "    ['Average word length (German)', awl_de],\n",
    "    ['Average sentence length (English)', en_lengths.mean()],\n",
    "    ['Average sentence length (German)', de_lengths.mean()],\n",
    "    ['Average sentence length difference (English - German)', length_diff.mean()],\n",
    "    ['Most frequent word (English)', most_freq_word_en],\n",
    "    ['Most frequent word (German)', most_freq_word_de],\n",
    "    ['Numerals frequency (English)', numeral_freq_en],\n",
    "    ['Numerals frequency (German)', numeral_freq_de]\n",
    "]\n",
    "\n",
    "# Print summary statistics\n",
    "print(tabulate(summary_stats, headers=['Statistic', 'Value'], tablefmt='pretty'))"
   ]
  },
  {
   "cell_type": "code",
   "execution_count": 4,
   "metadata": {},
   "outputs": [
    {
     "data": {
      "image/png": "[encoded data removed]",
      "text/plain": [
       "<Figure size 400x400 with 1 Axes>"
      ]
     },
     "metadata": {},
     "output_type": "display_data"
    }
   ],
   "source": [
    "df['en_sentence_length'] = df['en'].str.len()\n",
    "df['de_sentence_length'] = df['de'].str.len()\n",
    "\n",
    "df['en_num_words'] = df['en'].str.split().apply(len)\n",
    "df['de_num_words'] = df['de'].str.split().apply(len)\n",
    "\n",
    "df['en_avg_word_length'] = df['en_sentence_length'] / df['en_num_words']\n",
    "df['de_avg_word_length'] = df['de_sentence_length'] / df['de_num_words']\n",
    "\n",
    "# Plotting with Seaborn\n",
    "plt.figure(figsize=(4, 4))\n",
    "\n",
    "# Distribution of Average Word Length\n",
    "plt.subplot(1, 1, 1)\n",
    "sns.histplot(df['en_avg_word_length'], kde=True, color='blue', label='English')\n",
    "sns.histplot(df['de_avg_word_length'], kde=True, color='green', label='German')\n",
    "plt.title('Distribution of Average Word Length')\n",
    "plt.xlabel('Average Word Length (Characters)')\n",
    "plt.legend()\n",
    "\n",
    "# Show plot\n",
    "plt.tight_layout()\n",
    "plt.show()\n"
   ]
  },
  {
   "cell_type": "markdown",
   "metadata": {},
   "source": [
    "# Task 2: Pre-processing"
   ]
  },
  {
   "cell_type": "code",
   "execution_count": 60,
   "metadata": {},
   "outputs": [
    {
     "name": "stdout",
     "output_type": "stream",
     "text": [
      "Columns have been saved to separate files.\n"
     ]
    }
   ],
   "source": [
    "def write_files():\n",
    "    # Specify the columns to be saved\n",
    "    column1 = 'en'\n",
    "    column2 = 'de'\n",
    "\n",
    "    # Save the first column to file1.txt\n",
    "    with open('en.txt', 'w', encoding='utf-8') as f1:\n",
    "        for item in df_sampled[column1]:\n",
    "            f1.write(f\"{item}\\n\")\n",
    "\n",
    "    # Save the second column to file2.txt\n",
    "    with open('de.txt', 'w', encoding='utf-8') as f2:\n",
    "        for item in df_sampled[column2]:\n",
    "            f2.write(f\"{item}\\n\")\n",
    "\n",
    "    print(\"Columns have been saved to separate files.\")\n",
    "\n",
    "# Pre-process: Lowercase texts\n",
    "df_sampled['en'] = df_sampled['en'].str.lower()\n",
    "df_sampled['de'] = df_sampled['de'].str.lower()\n",
    "\n",
    "# Function to remove lists of numbers separated by commas\n",
    "def remove_number_lists(text):\n",
    "    pattern = r'\\b\\d+(?:,\\s*\\d+)*\\b'\n",
    "    cleaned_text = re.sub(pattern, '', text)\n",
    "    return cleaned_text.strip()\n",
    "\n",
    "# Pre-process: Apply number removal and then remove punctuation\n",
    "df_sampled['en'] = df_sampled['en'].apply(remove_number_lists)\n",
    "df_sampled['de'] = df_sampled['de'].apply(remove_number_lists)\n",
    "\n",
    "# Pre-process: Remove punctuation\n",
    "df_sampled['en'] = df_sampled['en'].apply(lambda x: x.translate(str.maketrans('', '', string.punctuation)))\n",
    "df_sampled['de'] = df_sampled['de'].apply(lambda x: x.translate(str.maketrans('', '', string.punctuation)))\n",
    "\n",
    "# Pre-process: Strip empty lines and their correspondences\n",
    "df_sampled = df_sampled[(df_sampled['en'].str.strip() != '') & (df_sampled['de'].str.strip() != '')]\n",
    "\n",
    "# Pre-process: Remove unnecessary white spaces\n",
    "df_sampled['en'] = df_sampled['en'].apply(lambda x: ' '.join(x.split()))\n",
    "df_sampled['de'] = df_sampled['de'].apply(lambda x: ' '.join(x.split()))\n",
    "\n",
    "# Function to apply regex substitution and remove extra whitespace before 3 or more zeroes\n",
    "def remove_whitespace_before_numbers(text):\n",
    "    text = re.sub(r'(\\d)\\s+(\\d)', r'\\1\\2', text)\n",
    "    return text\n",
    "\n",
    "df_sampled['en'] = df_sampled['en'].apply(lambda x: remove_whitespace_before_numbers(x))\n",
    "df_sampled['de'] = df_sampled['de'].apply(lambda x: remove_whitespace_before_numbers(x))\n",
    "\n",
    "\n",
    "# Function to apply regex substitution\n",
    "def remove_report_number(text):\n",
    "    # Remove letter followed by digits\n",
    "    text = re.sub(r'\\b[a-z]\\d+\\b', '', text)\n",
    "    # Remove extra whitespace\n",
    "    text = ' '.join(text.split())\n",
    "    return text\n",
    "\n",
    "df_sampled['en'] = df_sampled['en'].apply(lambda x: remove_report_number(x))\n",
    "df_sampled['de'] = df_sampled['de'].apply(lambda x: remove_report_number(x))\n",
    "\n",
    "# Function to remove specific characters and replace special symbols\n",
    "def remove_specific_characters(text, replacements):\n",
    "    for key, value in replacements.items():\n",
    "        text = text.replace(key, value)\n",
    "    \n",
    "    # Remove hyphens, „, and “ and other specified characters\n",
    "    text = re.sub(r'[-„“‟”–…‘’´­•—‚‘υπέρœ―]', '', text) # [^a-zA-Z0-9\\söêüíßèéäñćėøâòìçïčľţôńšúşåóáã]\n",
    "    # Remove extra whitespace\n",
    "    text = ' '.join(text.split())\n",
    "    \n",
    "    return text\n",
    "\n",
    "# Define replacements for 'en' and 'de' separately\n",
    "replacements_en = {\n",
    "    'æ': 'ae',\n",
    "    '½': 'one half',\n",
    "    '¾': 'three quarters',\n",
    "    '£': 'pound',\n",
    "    '°': 'degree',\n",
    "    '§': 'section'\n",
    "\n",
    "}\n",
    "\n",
    "replacements_de = {\n",
    "    'æ': 'ae',\n",
    "    '½': 'ein halb',\n",
    "    '¾': 'drei viertel',\n",
    "    '€': 'euro',\n",
    "    '°': 'grad',\n",
    "    '§': 'abschnitt'\n",
    "}\n",
    "\n",
    "# Apply preprocessing function to columns 'en' and 'de'\n",
    "df_sampled['en'] = df_sampled['en'].apply(lambda x: remove_specific_characters(x.lower().translate(str.maketrans('', '', string.punctuation)), replacements_en))\n",
    "df_sampled['de'] = df_sampled['de'].apply(lambda x: remove_specific_characters(x.lower().translate(str.maketrans('', '', string.punctuation)), replacements_de))\n",
    "\n",
    "def convert_numbers_to_words(sentence, lang='en'):\n",
    "    words = word_tokenize(sentence)\n",
    "    converted_words = []\n",
    "    for word in words:\n",
    "        try:\n",
    "            number = int(word)\n",
    "            if 0 <= number <= 999999999:\n",
    "                converted_word = num2words(number, lang=lang)\n",
    "                converted_words.append(converted_word)\n",
    "            else:\n",
    "                converted_words.append(word)  # Append as is if out of range\n",
    "        except ValueError:\n",
    "            converted_words.append(word)\n",
    "        except NotImplementedError:\n",
    "            converted_words.append(word)  # Handle cases where num2words cannot convert\n",
    "    return ' '.join(converted_words)\n",
    "\n",
    "# Applying conversion for English and German\n",
    "df_sampled['en'] = df_sampled['en'].apply(lambda x: convert_numbers_to_words(x, lang='en'))\n",
    "df_sampled['de'] = df_sampled['de'].apply(lambda x: convert_numbers_to_words(x, lang='de'))\n",
    "\n",
    "# Write the processed data to files\n",
    "write_files()\n",
    "\n",
    "# remove numbers having length bigger than 10 and move on\n"
   ]
  }
 ],
 "metadata": {
  "kernelspec": {
   "display_name": "Python 3",
   "language": "python",
   "name": "python3"
  },
  "language_info": {
   "codemirror_mode": {
    "name": "ipython",
    "version": 3
   },
   "file_extension": ".py",
   "mimetype": "text/x-python",
   "name": "python",
   "nbconvert_exporter": "python",
   "pygments_lexer": "ipython3",
   "version": "3.12.3"
  }
 },
 "nbformat": 4,
 "nbformat_minor": 2
}
