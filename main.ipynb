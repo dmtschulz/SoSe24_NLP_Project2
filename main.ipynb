{
 "cells": [
  {
   "cell_type": "code",
   "execution_count": 19,
   "metadata": {},
   "outputs": [],
   "source": [
    "import pandas as pd\n",
    "import numpy as np\n",
    "import matplotlib.pyplot as plt\n",
    "import seaborn as sns\n",
    "import codecs"
   ]
  },
  {
   "cell_type": "markdown",
   "metadata": {},
   "source": [
    "# Task 1: Data exploration "
   ]
  },
  {
   "cell_type": "code",
   "execution_count": 20,
   "metadata": {},
   "outputs": [
    {
     "name": "stdout",
     "output_type": "stream",
     "text": [
      "{'Number of sentences': 1920209, 'Average length (English)': 148.39319626144862, 'Average length (German)': 167.1154806586158, 'Length difference (English - German)': -18.722284397167183, 'Average word length (English)': 4.978014412815271, 'Average word length (German)': 6.2422196800978185, 'Average words per sentence (English)': 24.936005924355108, 'Average words per sentence (German)': 23.234077644673054}\n"
     ]
    },
    {
     "data": {
      "text/plain": [
       "<Figure size 1296x720 with 0 Axes>"
      ]
     },
     "execution_count": 20,
     "metadata": {},
     "output_type": "execute_result"
    },
    {
     "data": {
      "text/plain": [
       "<AxesSubplot:>"
      ]
     },
     "execution_count": 20,
     "metadata": {},
     "output_type": "execute_result"
    },
    {
     "data": {
      "text/plain": [
       "<AxesSubplot:xlabel='en', ylabel='Count'>"
      ]
     },
     "execution_count": 20,
     "metadata": {},
     "output_type": "execute_result"
    },
    {
     "data": {
      "text/plain": [
       "<AxesSubplot:xlabel='en', ylabel='Count'>"
      ]
     },
     "execution_count": 20,
     "metadata": {},
     "output_type": "execute_result"
    },
    {
     "data": {
      "text/plain": [
       "Text(0.5, 1.0, 'Sentence Length Distribution')"
      ]
     },
     "execution_count": 20,
     "metadata": {},
     "output_type": "execute_result"
    },
    {
     "data": {
      "text/plain": [
       "Text(0.5, 0, 'Sentence Length')"
      ]
     },
     "execution_count": 20,
     "metadata": {},
     "output_type": "execute_result"
    },
    {
     "data": {
      "text/plain": [
       "Text(0, 0.5, 'Frequency')"
      ]
     },
     "execution_count": 20,
     "metadata": {},
     "output_type": "execute_result"
    },
    {
     "data": {
      "text/plain": [
       "<matplotlib.legend.Legend at 0x3fd408190>"
      ]
     },
     "execution_count": 20,
     "metadata": {},
     "output_type": "execute_result"
    },
    {
     "data": {
      "text/plain": [
       "<AxesSubplot:>"
      ]
     },
     "execution_count": 20,
     "metadata": {},
     "output_type": "execute_result"
    },
    {
     "data": {
      "text/plain": [
       "<AxesSubplot:ylabel='Count'>"
      ]
     },
     "execution_count": 20,
     "metadata": {},
     "output_type": "execute_result"
    },
    {
     "data": {
      "text/plain": [
       "Text(0.5, 1.0, 'Sentence Length Difference (English - German)')"
      ]
     },
     "execution_count": 20,
     "metadata": {},
     "output_type": "execute_result"
    },
    {
     "data": {
      "text/plain": [
       "Text(0.5, 0, 'Length Difference')"
      ]
     },
     "execution_count": 20,
     "metadata": {},
     "output_type": "execute_result"
    },
    {
     "data": {
      "text/plain": [
       "Text(0, 0.5, 'Frequency')"
      ]
     },
     "execution_count": 20,
     "metadata": {},
     "output_type": "execute_result"
    },
    {
     "data": {
      "text/plain": [
       "<AxesSubplot:>"
      ]
     },
     "execution_count": 20,
     "metadata": {},
     "output_type": "execute_result"
    },
    {
     "data": {
      "text/plain": [
       "<AxesSubplot:xlabel='en_avg_word_length', ylabel='Count'>"
      ]
     },
     "execution_count": 20,
     "metadata": {},
     "output_type": "execute_result"
    },
    {
     "data": {
      "text/plain": [
       "<AxesSubplot:xlabel='en_avg_word_length', ylabel='Count'>"
      ]
     },
     "execution_count": 20,
     "metadata": {},
     "output_type": "execute_result"
    },
    {
     "data": {
      "text/plain": [
       "Text(0.5, 1.0, 'Average Word Length Distribution')"
      ]
     },
     "execution_count": 20,
     "metadata": {},
     "output_type": "execute_result"
    },
    {
     "data": {
      "text/plain": [
       "Text(0.5, 0, 'Average Word Length')"
      ]
     },
     "execution_count": 20,
     "metadata": {},
     "output_type": "execute_result"
    },
    {
     "data": {
      "text/plain": [
       "Text(0, 0.5, 'Frequency')"
      ]
     },
     "execution_count": 20,
     "metadata": {},
     "output_type": "execute_result"
    },
    {
     "data": {
      "text/plain": [
       "<matplotlib.legend.Legend at 0x38424daf0>"
      ]
     },
     "execution_count": 20,
     "metadata": {},
     "output_type": "execute_result"
    },
    {
     "data": {
      "text/plain": [
       "<AxesSubplot:>"
      ]
     },
     "execution_count": 20,
     "metadata": {},
     "output_type": "execute_result"
    },
    {
     "data": {
      "text/plain": [
       "<AxesSubplot:xlabel='en_word_count', ylabel='Count'>"
      ]
     },
     "execution_count": 20,
     "metadata": {},
     "output_type": "execute_result"
    },
    {
     "data": {
      "text/plain": [
       "<AxesSubplot:xlabel='en_word_count', ylabel='Count'>"
      ]
     },
     "execution_count": 20,
     "metadata": {},
     "output_type": "execute_result"
    },
    {
     "data": {
      "text/plain": [
       "Text(0.5, 1.0, 'Words per Sentence Distribution')"
      ]
     },
     "execution_count": 20,
     "metadata": {},
     "output_type": "execute_result"
    },
    {
     "data": {
      "text/plain": [
       "Text(0.5, 0, 'Number of Words')"
      ]
     },
     "execution_count": 20,
     "metadata": {},
     "output_type": "execute_result"
    },
    {
     "data": {
      "text/plain": [
       "Text(0, 0.5, 'Frequency')"
      ]
     },
     "execution_count": 20,
     "metadata": {},
     "output_type": "execute_result"
    },
    {
     "data": {
      "text/plain": [
       "<matplotlib.legend.Legend at 0x368519d60>"
      ]
     },
     "execution_count": 20,
     "metadata": {},
     "output_type": "execute_result"
    },
    {
     "data": {
      "image/png": "[encoded data removed]",
      "text/plain": [
       "<Figure size 1296x720 with 4 Axes>"
      ]
     },
     "metadata": {
      "needs_background": "dark"
     },
     "output_type": "display_data"
    },
    {
     "name": "stdout",
     "output_type": "stream",
     "text": [
      "{'Number of sentences': 192021, 'Average length (English)': 148.31669973596638, 'Average length (German)': 166.98837106358158, 'Length difference (English - German)': -18.671671327615208, 'Average word length (English)': 4.978805281771539, 'Average word length (German)': 6.2420487538122105, 'Average words per sentence (English)': 24.92369584576687, 'Average words per sentence (German)': 23.225881544206104}\n"
     ]
    }
   ],
   "source": [
    "# File paths\n",
    "en_file_path = 'de-en/europarl-v7.de-en.en'  # English language file\n",
    "de_file_path = 'de-en/europarl-v7.de-en.de'  # German language file\n",
    "\n",
    "# Read the files using codecs to handle potential codec errors\n",
    "with codecs.open(en_file_path, 'r', encoding='utf-8', errors='ignore') as en_file:\n",
    "    en_sentences = en_file.readlines()\n",
    "\n",
    "with codecs.open(de_file_path, 'r', encoding='utf-8', errors='ignore') as de_file:\n",
    "    de_sentences = de_file.readlines()\n",
    "\n",
    "# Create a DataFrame\n",
    "df = pd.DataFrame({'en': en_sentences, 'de': de_sentences})\n",
    "\n",
    "# Data cleaning: strip whitespace\n",
    "df['en'] = df['en'].str.strip()\n",
    "df['de'] = df['de'].str.strip()\n",
    "\n",
    "# Basic statistics\n",
    "num_sentences = len(df)\n",
    "en_lengths = df['en'].str.len()\n",
    "de_lengths = df['de'].str.len()\n",
    "length_diff = en_lengths - de_lengths\n",
    "\n",
    "# Function to calculate average word length\n",
    "def avg_word_length(text):\n",
    "    words = text.split()\n",
    "    if len(words) == 0:\n",
    "        return 0\n",
    "    return sum(len(word) for word in words) / len(words)\n",
    "\n",
    "# Calculate average word length for each sentence\n",
    "df['en_avg_word_length'] = df['en'].apply(avg_word_length)\n",
    "df['de_avg_word_length'] = df['de'].apply(avg_word_length)\n",
    "\n",
    "# Calculate average number of words per sentence\n",
    "df['en_word_count'] = df['en'].str.split().apply(len)\n",
    "df['de_word_count'] = df['de'].str.split().apply(len)\n",
    "\n",
    "# Summary statistics\n",
    "summary_stats = {\n",
    "    'Number of sentences': num_sentences,\n",
    "    'Average length (English)': en_lengths.mean(),\n",
    "    'Average length (German)': de_lengths.mean(),\n",
    "    'Length difference (English - German)': length_diff.mean(),\n",
    "    'Average word length (English)': df['en_avg_word_length'].mean(),\n",
    "    'Average word length (German)': df['de_avg_word_length'].mean(),\n",
    "    'Average words per sentence (English)': df['en_word_count'].mean(),\n",
    "    'Average words per sentence (German)': df['de_word_count'].mean()\n",
    "}\n",
    "\n",
    "print(summary_stats)\n",
    "\n",
    "# Visualize the data\n",
    "plt.figure(figsize=(18, 10))\n",
    "\n",
    "plt.subplot(2, 2, 1)\n",
    "sns.histplot(en_lengths, kde=True, color='blue', label='English')\n",
    "sns.histplot(de_lengths, kde=True, color='red', label='German')\n",
    "plt.title('Sentence Length Distribution')\n",
    "plt.xlabel('Sentence Length')\n",
    "plt.ylabel('Frequency')\n",
    "plt.legend()\n",
    "\n",
    "plt.subplot(2, 2, 2)\n",
    "sns.histplot(length_diff, kde=True, color='green')\n",
    "plt.title('Sentence Length Difference (English - German)')\n",
    "plt.xlabel('Length Difference')\n",
    "plt.ylabel('Frequency')\n",
    "\n",
    "plt.subplot(2, 2, 3)\n",
    "sns.histplot(df['en_avg_word_length'], kde=True, color='blue', label='English')\n",
    "sns.histplot(df['de_avg_word_length'], kde=True, color='red', label='German')\n",
    "plt.title('Average Word Length Distribution')\n",
    "plt.xlabel('Average Word Length')\n",
    "plt.ylabel('Frequency')\n",
    "plt.legend()\n",
    "\n",
    "plt.subplot(2, 2, 4)\n",
    "sns.histplot(df['en_word_count'], kde=True, color='blue', label='English')\n",
    "sns.histplot(df['de_word_count'], kde=True, color='red', label='German')\n",
    "plt.title('Words per Sentence Distribution')\n",
    "plt.xlabel('Number of Words')\n",
    "plt.ylabel('Frequency')\n",
    "plt.legend()\n",
    "\n",
    "plt.tight_layout()\n",
    "plt.show()\n",
    "\n",
    "# Data sampling: randomly select 10% of the data\n",
    "sample_df = df.sample(frac=0.1, random_state=42)\n",
    "\n",
    "# Save the sampled data to CSV files (optional)\n",
    "sample_df.to_csv('sampled_europarl_de_en.csv', index=False)\n",
    "\n",
    "# Summary statistics for sampled data\n",
    "sample_summary_stats = {\n",
    "    'Number of sentences': len(sample_df),\n",
    "    'Average length (English)': sample_df['en'].str.len().mean(),\n",
    "    'Average length (German)': sample_df['de'].str.len().mean(),\n",
    "    'Length difference (English - German)': (sample_df['en'].str.len() - sample_df['de'].str.len()).mean(),\n",
    "    'Average word length (English)': sample_df['en_avg_word_length'].mean(),\n",
    "    'Average word length (German)': sample_df['de_avg_word_length'].mean(),\n",
    "    'Average words per sentence (English)': sample_df['en_word_count'].mean(),\n",
    "    'Average words per sentence (German)': sample_df['de_word_count'].mean()\n",
    "}\n",
    "\n",
    "print(sample_summary_stats)"
   ]
  }
 ],
 "metadata": {
  "kernelspec": {
   "display_name": "Python 3",
   "language": "python",
   "name": "python3"
  },
  "language_info": {
   "codemirror_mode": {
    "name": "ipython",
    "version": 3
   },
   "file_extension": ".py",
   "mimetype": "text/x-python",
   "name": "python",
   "nbconvert_exporter": "python",
   "pygments_lexer": "ipython3",
   "version": "3.8.13"
  }
 },
 "nbformat": 4,
 "nbformat_minor": 2
}
