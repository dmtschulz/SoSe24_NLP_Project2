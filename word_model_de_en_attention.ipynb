{
 "cells": [
  {
   "cell_type": "code",
   "execution_count": 1,
   "metadata": {},
   "outputs": [
    {
     "name": "stderr",
     "output_type": "stream",
     "text": [
      "[nltk_data] Downloading package words to\n",
      "[nltk_data]     C:\\Users\\PC\\AppData\\Roaming\\nltk_data...\n",
      "[nltk_data]   Package words is already up-to-date!\n",
      "[nltk_data] Downloading package punkt to\n",
      "[nltk_data]     C:\\Users\\PC\\AppData\\Roaming\\nltk_data...\n",
      "[nltk_data]   Package punkt is already up-to-date!\n",
      "e:\\TU\\SoSe24\\.venv\\lib\\site-packages\\tqdm\\auto.py:21: TqdmWarning: IProgress not found. Please update jupyter and ipywidgets. See https://ipywidgets.readthedocs.io/en/stable/user_install.html\n",
      "  from .autonotebook import tqdm as notebook_tqdm\n"
     ]
    }
   ],
   "source": [
    "import os\n",
    "import pandas as pd\n",
    "import matplotlib.pyplot as plt\n",
    "import seaborn as sns\n",
    "from collections import Counter\n",
    "import codecs\n",
    "from tabulate import tabulate\n",
    "import re\n",
    "import string\n",
    "from wordcloud import WordCloud\n",
    "import nltk\n",
    "from nltk.tokenize import word_tokenize\n",
    "from num2words import num2words\n",
    "\n",
    "nltk.download('words')\n",
    "nltk.download('punkt')\n",
    "\n",
    "from sklearn.model_selection import train_test_split\n",
    "import numpy as np\n",
    "import random\n",
    "from datasets import Dataset, DatasetDict\n",
    "\n",
    "import spacy\n",
    "\n",
    "import torchtext\n",
    "import torch\n",
    "import torch.optim as optim\n",
    "from tqdm import tqdm\n",
    "import torch.nn as nn"
   ]
  },
  {
   "cell_type": "code",
   "execution_count": 2,
   "metadata": {},
   "outputs": [
    {
     "data": {
      "text/plain": [
       "device(type='cuda')"
      ]
     },
     "execution_count": 2,
     "metadata": {},
     "output_type": "execute_result"
    }
   ],
   "source": [
    "device = torch.device('cuda' if torch.cuda.is_available() else 'cpu')\n",
    "device"
   ]
  },
  {
   "cell_type": "markdown",
   "metadata": {},
   "source": [
    "# Task 1: Data exploration and Sampling"
   ]
  },
  {
   "cell_type": "code",
   "execution_count": 6,
   "metadata": {},
   "outputs": [],
   "source": [
    "# Function to read text files safely\n",
    "def read_text_file(file_path):\n",
    "    with codecs.open(file_path, 'r', encoding='utf-8') as file:\n",
    "        sentences = file.readlines()\n",
    "    return sentences\n",
    "\n",
    "# Function to calculate most frequent word\n",
    "def most_frequent_word(text):\n",
    "    words = text.split()\n",
    "    word_freq = Counter(words)\n",
    "    return word_freq.most_common(1)[0][0]\n",
    "\n",
    "# Function to calculate unique words count\n",
    "def count_unique_words(text):\n",
    "    words = text.split()\n",
    "    return len(set(words))\n",
    "\n",
    "# Function to calculate numeral frequencies\n",
    "def count_numerals(text):\n",
    "    numeral_count = Counter(char for char in text if char.isdigit())\n",
    "    return numeral_count\n",
    "\n",
    "# File paths\n",
    "en_file_path = 'de-en/europarl-v7.de-en.en'  # English language file\n",
    "de_file_path = 'de-en/europarl-v7.de-en.de'  # German language file\n",
    "\n",
    "# Read the files\n",
    "en_sentences = read_text_file(en_file_path)\n",
    "de_sentences = read_text_file(de_file_path)\n",
    "\n",
    "# Create a DataFrame\n",
    "df = pd.DataFrame({'en': en_sentences, 'de': de_sentences})"
   ]
  },
  {
   "cell_type": "markdown",
   "metadata": {},
   "source": [
    "## Stats"
   ]
  },
  {
   "cell_type": "code",
   "execution_count": 7,
   "metadata": {},
   "outputs": [],
   "source": [
    "# Basic statistics\n",
    "num_sentences = len(df)\n",
    "en_lengths = df['en'].str.len()\n",
    "de_lengths = df['de'].str.len()\n",
    "length_diff = en_lengths - de_lengths\n",
    "\n",
    "# Calculate total number of words, unique words, and average word length\n",
    "def calculate_word_stats(text):\n",
    "    words = text.split()\n",
    "    num_words = len(words)\n",
    "    unique_words = count_unique_words(text)\n",
    "    avg_word_length = sum(len(word) for word in words) / num_words\n",
    "    return num_words, unique_words, avg_word_length\n",
    "\n",
    "en_num_words, unique_en_words, awl_en = calculate_word_stats(' '.join(df['en']))\n",
    "de_num_words, unique_de_words, awl_de = calculate_word_stats(' '.join(df['de']))\n",
    "\n",
    "# Calculate most frequent words\n",
    "most_freq_word_en = most_frequent_word(' '.join(df['en']))\n",
    "most_freq_word_de = most_frequent_word(' '.join(df['de']))\n",
    "\n",
    "# Calculate numeral frequencies\n",
    "numeral_freq_en = count_numerals(' '.join(df['en']))\n",
    "numeral_freq_de = count_numerals(' '.join(df['de']))\n",
    "\n",
    "# Summary statistics\n",
    "summary_stats = [\n",
    "    ['Number of sentences', num_sentences],\n",
    "    ['Total words (English)', en_num_words],\n",
    "    ['Total words (German)', de_num_words],\n",
    "    ['Unique words (English)', unique_en_words],\n",
    "    ['Unique words (German)', unique_de_words],\n",
    "    ['Average word length (English)', awl_en],\n",
    "    ['Average word length (German)', awl_de],\n",
    "    ['Average sentence length (English)', en_lengths.mean()],\n",
    "    ['Average sentence length (German)', de_lengths.mean()],\n",
    "    ['Average sentence length difference (English - German)', length_diff.mean()],\n",
    "    ['Most frequent word (English)', most_freq_word_en],\n",
    "    ['Most frequent word (German)', most_freq_word_de]\n",
    "    #['Numerals frequency (English)', numeral_freq_en],\n",
    "    #['Numerals frequency (German)', numeral_freq_de]\n",
    "]\n",
    "\n",
    "# Print summary statistics\n",
    "print(tabulate(summary_stats, headers=['Statistic', 'Value'], tablefmt='pretty'))"
   ]
  },
  {
   "cell_type": "markdown",
   "metadata": {},
   "source": [
    "## Display word clouds"
   ]
  },
  {
   "cell_type": "code",
   "execution_count": null,
   "metadata": {},
   "outputs": [],
   "source": [
    "# Generate and display word clouds\n",
    "def generate_word_cloud(text, title):\n",
    "    wordcloud = WordCloud(width=800, height=400, background_color='white').generate(text)\n",
    "    plt.figure(figsize=(10, 5))\n",
    "    plt.imshow(wordcloud, interpolation='bilinear')\n",
    "    plt.title(title)\n",
    "    plt.axis('off')\n",
    "    plt.show()\n",
    "\n",
    "# Create word clouds for English and German text\n",
    "generate_word_cloud(' '.join(df['en']), 'Most Common Words in English')\n",
    "generate_word_cloud(' '.join(df['de']), 'Most Common Words in German')"
   ]
  },
  {
   "cell_type": "markdown",
   "metadata": {},
   "source": [
    "## Distribution of Average Word Length"
   ]
  },
  {
   "cell_type": "code",
   "execution_count": null,
   "metadata": {},
   "outputs": [],
   "source": [
    "df['en_sentence_length'] = df['en'].str.len()\n",
    "df['de_sentence_length'] = df['de'].str.len()\n",
    "\n",
    "df['en_num_words'] = df['en'].str.split().apply(len)\n",
    "df['de_num_words'] = df['de'].str.split().apply(len)\n",
    "\n",
    "df['en_avg_word_length'] = df['en_sentence_length'] / df['en_num_words']\n",
    "df['de_avg_word_length'] = df['de_sentence_length'] / df['de_num_words']\n",
    "\n",
    "# Plotting with Seaborn\n",
    "plt.figure(figsize=(4, 4))\n",
    "\n",
    "# Distribution of Average Word Length\n",
    "plt.subplot(1, 1, 1)\n",
    "sns.histplot(df['en_avg_word_length'], kde=True, color='blue', label='English')\n",
    "sns.histplot(df['de_avg_word_length'], kde=True, color='green', label='German')\n",
    "plt.title('Distribution of Average Word Length')\n",
    "plt.xlabel('Average Word Length (Characters)')\n",
    "plt.legend()\n",
    "\n",
    "# Show plot\n",
    "plt.tight_layout()\n",
    "plt.show()\n"
   ]
  },
  {
   "cell_type": "markdown",
   "metadata": {},
   "source": [
    "# Task 2: Pre-processing"
   ]
  },
  {
   "cell_type": "code",
   "execution_count": null,
   "metadata": {},
   "outputs": [],
   "source": [
    "# Randomly select 10% of the data\n",
    "df_sampled = df.sample(frac=0.10, random_state=42)\n",
    "\n",
    "# Preprocessing steps\n",
    "def preprocess_text(df, column, lang, replacements):\n",
    "    df[column] = df[column].str.lower()\n",
    "    df[column] = df[column].apply(remove_number_lists)\n",
    "    df[column] = df[column].apply(lambda x: x.translate(str.maketrans('', '', string.punctuation)))\n",
    "    df[column] = df[column].apply(remove_specific_characters, args=(replacements,))\n",
    "    df[column] = df[column].apply(remove_whitespace_before_numbers)\n",
    "    df[column] = df[column].apply(remove_report_number)\n",
    "    df[column] = df[column].apply(lambda x: ' '.join(x.split()))\n",
    "    df[column] = df[column].apply(convert_numbers_to_words, args=(lang,))\n",
    "    return df\n",
    "\n",
    "def remove_number_lists(text):\n",
    "    pattern = r'\\b\\d+(?:,\\s*\\d+)*\\b'\n",
    "    return re.sub(pattern, '', text).strip()\n",
    "\n",
    "def remove_specific_characters(text, replacements):\n",
    "    for key, value in replacements.items():\n",
    "        text = text.replace(key, value)\n",
    "    text = re.sub(r'[-„“‟”–…‘’´­•—‚‘υπέρœ―]', '', text)\n",
    "    return ' '.join(text.split())\n",
    "\n",
    "def remove_whitespace_before_numbers(text):\n",
    "    return re.sub(r'(\\d)\\s+(\\d)', r'\\1\\2', text)\n",
    "\n",
    "def remove_report_number(text):\n",
    "    text = re.sub(r'\\b[a-z]\\d+\\b', '', text)\n",
    "    return ' '.join(text.split())\n",
    "\n",
    "def convert_numbers_to_words(sentence, lang='en'):\n",
    "    words = word_tokenize(sentence)\n",
    "    converted_words = []\n",
    "    for word in words:\n",
    "        try:\n",
    "            number = int(word)\n",
    "            if 0 <= number <= 999999999:\n",
    "                converted_words.append(num2words(number, lang=lang))\n",
    "            else:\n",
    "                converted_words.append(word)\n",
    "        except (ValueError, NotImplementedError):\n",
    "            converted_words.append(word)\n",
    "    return ' '.join(converted_words)\n",
    "\n",
    "def write_files(df):\n",
    "    columns_to_save = {'en': 'en.txt', 'de': 'de.txt'}\n",
    "    for column, filename in columns_to_save.items():\n",
    "        df[column].to_csv(filename, index=False, header=False, encoding='utf-8')\n",
    "    print(\"Columns have been saved to separate files.\")\n",
    "\n",
    "# Define replacements for 'en' and 'de'\n",
    "replacements = {\n",
    "    'en': {'½': 'one half', '¾': 'three quarters', '£': 'pound', '°': 'degree', '§': 'section'},\n",
    "    'de': {'½': 'ein halb', '¾': 'drei viertel', '€': 'euro', '°': 'grad', '§': 'abschnitt'}\n",
    "}\n",
    "\n",
    "# Apply preprocessing to 'en' and 'de' columns\n",
    "df_sampled = preprocess_text(df_sampled, 'en', 'en', replacements['en'])\n",
    "df_sampled = preprocess_text(df_sampled, 'de', 'de', replacements['de'])\n",
    "\n",
    "# Strip empty lines and their correspondences\n",
    "df_sampled = df_sampled[(df_sampled['en'].str.strip() != '') & (df_sampled['de'].str.strip() != '')]\n",
    "\n",
    "# Write the processed data to files\n",
    "write_files(df_sampled)"
   ]
  },
  {
   "cell_type": "markdown",
   "metadata": {},
   "source": [
    "# Task 3: Neural Machine Translation"
   ]
  },
  {
   "cell_type": "markdown",
   "metadata": {},
   "source": [
    "## Load 10 % of data"
   ]
  },
  {
   "cell_type": "code",
   "execution_count": 4,
   "metadata": {},
   "outputs": [
    {
     "name": "stdout",
     "output_type": "stream",
     "text": [
      "                                                  de  \\\n",
      "0  rückwürfe von bis zu zwei millionen tonnen ges...   \n",
      "1  ferner zeigt sie nützliche marktinstrumente zu...   \n",
      "2  dies bringt jedoch auch höhere kosten für die ...   \n",
      "3            bedeutende reaktionsfähigkeit potenzial   \n",
      "4  ein tätigwerden auf dem gebiet der vermarktung...   \n",
      "\n",
      "                                                  en  \n",
      "0  discarding nearly two million tonnes of health...  \n",
      "1  they can also point out useful market instrume...  \n",
      "2   however it will mean more costs for the consumer  \n",
      "3                   significant reactivity potential  \n",
      "4  the need for action on the marketing of constr...  \n"
     ]
    }
   ],
   "source": [
    "# Read and preprocess data\n",
    "with open(\"de.txt\", 'r', encoding='utf-8') as file1: \n",
    "    de_texts = [line.strip() for line in file1]\n",
    "with open(\"en.txt\", 'r', encoding='utf-8') as file2: \n",
    "    en_texts = [line.strip() for line in file2]\n",
    "\n",
    "# Create a DataFrame from the lists\n",
    "df_sampled = pd.DataFrame({'de': de_texts, 'en': en_texts})\n",
    "df_sampled = df_sampled.sample(frac=0.05, random_state=1).reset_index(drop=True)\n",
    "df_sampled.tail()\n",
    "print(df_sampled.head())"
   ]
  },
  {
   "cell_type": "markdown",
   "metadata": {},
   "source": [
    "## Split data. 20% test and rest into train and val split"
   ]
  },
  {
   "cell_type": "code",
   "execution_count": 5,
   "metadata": {},
   "outputs": [
    {
     "name": "stdout",
     "output_type": "stream",
     "text": [
      "Train data shape: (7006, 2)\n",
      "Validation data shape: (610, 2)\n",
      "Test data shape: (1904, 2)\n"
     ]
    },
    {
     "data": {
      "text/html": [
       "<div>\n",
       "<style scoped>\n",
       "    .dataframe tbody tr th:only-of-type {\n",
       "        vertical-align: middle;\n",
       "    }\n",
       "\n",
       "    .dataframe tbody tr th {\n",
       "        vertical-align: top;\n",
       "    }\n",
       "\n",
       "    .dataframe thead th {\n",
       "        text-align: right;\n",
       "    }\n",
       "</style>\n",
       "<table border=\"1\" class=\"dataframe\">\n",
       "  <thead>\n",
       "    <tr style=\"text-align: right;\">\n",
       "      <th></th>\n",
       "      <th>de</th>\n",
       "      <th>en</th>\n",
       "    </tr>\n",
       "  </thead>\n",
       "  <tbody>\n",
       "    <tr>\n",
       "      <th>4997</th>\n",
       "      <td>wir werden ab mai eine gemeinschaft mit millio...</td>\n",
       "      <td>from the first of may we shall be a community ...</td>\n",
       "    </tr>\n",
       "    <tr>\n",
       "      <th>5944</th>\n",
       "      <td>bericht von frau maría rodríguez ramos im name...</td>\n",
       "      <td>report by maría rodríguez ramos on behalf of t...</td>\n",
       "    </tr>\n",
       "    <tr>\n",
       "      <th>9334</th>\n",
       "      <td>für das europäische projekt von morgen sind wi...</td>\n",
       "      <td>for the european project of the future we are ...</td>\n",
       "    </tr>\n",
       "    <tr>\n",
       "      <th>2102</th>\n",
       "      <td>schriftlich sv der bericht über die gemeinsame...</td>\n",
       "      <td>in writing sv the report on the common agricul...</td>\n",
       "    </tr>\n",
       "    <tr>\n",
       "      <th>7075</th>\n",
       "      <td>frauen und mädchen werden unterdrückt insbeson...</td>\n",
       "      <td>women and girls suffer oppression particularly...</td>\n",
       "    </tr>\n",
       "  </tbody>\n",
       "</table>\n",
       "</div>"
      ],
      "text/plain": [
       "                                                     de  \\\n",
       "4997  wir werden ab mai eine gemeinschaft mit millio...   \n",
       "5944  bericht von frau maría rodríguez ramos im name...   \n",
       "9334  für das europäische projekt von morgen sind wi...   \n",
       "2102  schriftlich sv der bericht über die gemeinsame...   \n",
       "7075  frauen und mädchen werden unterdrückt insbeson...   \n",
       "\n",
       "                                                     en  \n",
       "4997  from the first of may we shall be a community ...  \n",
       "5944  report by maría rodríguez ramos on behalf of t...  \n",
       "9334  for the european project of the future we are ...  \n",
       "2102  in writing sv the report on the common agricul...  \n",
       "7075  women and girls suffer oppression particularly...  "
      ]
     },
     "execution_count": 5,
     "metadata": {},
     "output_type": "execute_result"
    }
   ],
   "source": [
    "test_size = 0.2  # 20% for test set\n",
    "train_val_df, test_df = train_test_split(df_sampled, test_size=test_size, random_state=42)\n",
    "\n",
    "# Further split train/validation:\n",
    "val_size = 0.08  # 8% of remaining data for validation\n",
    "train_df, val_df = train_test_split(train_val_df, test_size=val_size, random_state=42)\n",
    "\n",
    "print(\"Train data shape:\", train_df.shape)\n",
    "print(\"Validation data shape:\", val_df.shape)\n",
    "print(\"Test data shape:\", test_df.shape)\n",
    "\n",
    "train_df.head()"
   ]
  },
  {
   "cell_type": "markdown",
   "metadata": {},
   "source": [
    "## Create DatasetDict from train_df, val_df and test_df"
   ]
  },
  {
   "cell_type": "code",
   "execution_count": 6,
   "metadata": {},
   "outputs": [
    {
     "name": "stdout",
     "output_type": "stream",
     "text": [
      "DatasetDict({\n",
      "    train: Dataset({\n",
      "        features: ['de', 'en', '__index_level_0__'],\n",
      "        num_rows: 7006\n",
      "    })\n",
      "    validation: Dataset({\n",
      "        features: ['de', 'en', '__index_level_0__'],\n",
      "        num_rows: 610\n",
      "    })\n",
      "    test: Dataset({\n",
      "        features: ['de', 'en', '__index_level_0__'],\n",
      "        num_rows: 1904\n",
      "    })\n",
      "})\n"
     ]
    }
   ],
   "source": [
    "# Convert DataFrames to Dataset objects\n",
    "train_dataset = Dataset.from_pandas(train_df)\n",
    "val_dataset = Dataset.from_pandas(val_df)\n",
    "test_dataset = Dataset.from_pandas(test_df)\n",
    "\n",
    "# Create DatasetDict\n",
    "dataset = DatasetDict({\n",
    "    'train': train_dataset,\n",
    "    'validation': val_dataset,\n",
    "    'test': test_dataset\n",
    "})\n",
    "\n",
    "# Print the DatasetDict\n",
    "print(dataset)\n",
    "\n",
    "train_data, valid_data, test_data = (\n",
    "    dataset[\"train\"],\n",
    "    dataset[\"validation\"],\n",
    "    dataset[\"test\"],\n",
    ")\n"
   ]
  },
  {
   "cell_type": "code",
   "execution_count": 6,
   "metadata": {},
   "outputs": [],
   "source": [
    "#!python -m spacy download en_core_web_sm\n",
    "#!python -m spacy download de_core_news_sm"
   ]
  },
  {
   "cell_type": "markdown",
   "metadata": {},
   "source": [
    "## Load tokenizers"
   ]
  },
  {
   "cell_type": "code",
   "execution_count": 7,
   "metadata": {},
   "outputs": [],
   "source": [
    "en_nlp = spacy.load(\"en_core_web_sm\")\n",
    "de_nlp = spacy.load(\"de_core_news_sm\")"
   ]
  },
  {
   "cell_type": "markdown",
   "metadata": {},
   "source": [
    "## Tokenize train, val and test data sets"
   ]
  },
  {
   "cell_type": "code",
   "execution_count": 8,
   "metadata": {},
   "outputs": [
    {
     "name": "stderr",
     "output_type": "stream",
     "text": [
      "Map: 100%|██████████| 7006/7006 [00:03<00:00, 2138.00 examples/s]\n",
      "Map: 100%|██████████| 610/610 [00:00<00:00, 2957.36 examples/s]\n",
      "Map: 100%|██████████| 1904/1904 [00:00<00:00, 3026.41 examples/s]\n"
     ]
    }
   ],
   "source": [
    "def tokenize_example(example, en_nlp, de_nlp, max_length, lower, sos_token, eos_token):\n",
    "    en_tokens = [token.text for token in en_nlp.tokenizer(example[\"en\"])][:max_length]\n",
    "    de_tokens = [token.text for token in de_nlp.tokenizer(example[\"de\"])][:max_length]\n",
    "    if lower:\n",
    "        en_tokens = [token.lower() for token in en_tokens]\n",
    "        de_tokens = [token.lower() for token in de_tokens]\n",
    "    en_tokens = [sos_token] + en_tokens + [eos_token]\n",
    "    de_tokens = [sos_token] + de_tokens + [eos_token]\n",
    "    return {\"en_tokens\": en_tokens, \"de_tokens\": de_tokens}\n",
    "\n",
    "max_length = 1000\n",
    "lower = True\n",
    "sos_token = \"<sos>\"\n",
    "eos_token = \"<eos>\"\n",
    "\n",
    "fn_kwargs = {\n",
    "    \"en_nlp\": en_nlp,\n",
    "    \"de_nlp\": de_nlp,\n",
    "    \"max_length\": max_length,\n",
    "    \"lower\": lower,\n",
    "    \"sos_token\": sos_token,\n",
    "    \"eos_token\": eos_token,\n",
    "}\n",
    "\n",
    "train_data = train_data.map(tokenize_example, fn_kwargs=fn_kwargs)\n",
    "valid_data = valid_data.map(tokenize_example, fn_kwargs=fn_kwargs)\n",
    "test_data = test_data.map(tokenize_example, fn_kwargs=fn_kwargs)"
   ]
  },
  {
   "cell_type": "code",
   "execution_count": 9,
   "metadata": {},
   "outputs": [
    {
     "data": {
      "text/plain": [
       "{'de': 'bericht von frau maría rodríguez ramos im namen des ausschusses für landwirtschaft und ländliche entwicklung über die multifunktionalität der landwirtschaft und die reform der gemeinsamen agrarpolitik ini',\n",
       " 'en': 'report by maría rodríguez ramos on behalf of the committee on agriculture and rural development on multifunctional agriculture and the reform of the cap ini',\n",
       " '__index_level_0__': 5944,\n",
       " 'en_tokens': ['<sos>',\n",
       "  'report',\n",
       "  'by',\n",
       "  'maría',\n",
       "  'rodríguez',\n",
       "  'ramos',\n",
       "  'on',\n",
       "  'behalf',\n",
       "  'of',\n",
       "  'the',\n",
       "  'committee',\n",
       "  'on',\n",
       "  'agriculture',\n",
       "  'and',\n",
       "  'rural',\n",
       "  'development',\n",
       "  'on',\n",
       "  'multifunctional',\n",
       "  'agriculture',\n",
       "  'and',\n",
       "  'the',\n",
       "  'reform',\n",
       "  'of',\n",
       "  'the',\n",
       "  'cap',\n",
       "  'ini',\n",
       "  '<eos>'],\n",
       " 'de_tokens': ['<sos>',\n",
       "  'bericht',\n",
       "  'von',\n",
       "  'frau',\n",
       "  'maría',\n",
       "  'rodríguez',\n",
       "  'ramos',\n",
       "  'im',\n",
       "  'namen',\n",
       "  'des',\n",
       "  'ausschusses',\n",
       "  'für',\n",
       "  'landwirtschaft',\n",
       "  'und',\n",
       "  'ländliche',\n",
       "  'entwicklung',\n",
       "  'über',\n",
       "  'die',\n",
       "  'multifunktionalität',\n",
       "  'der',\n",
       "  'landwirtschaft',\n",
       "  'und',\n",
       "  'die',\n",
       "  'reform',\n",
       "  'der',\n",
       "  'gemeinsamen',\n",
       "  'agrarpolitik',\n",
       "  'ini',\n",
       "  '<eos>']}"
      ]
     },
     "execution_count": 9,
     "metadata": {},
     "output_type": "execute_result"
    }
   ],
   "source": [
    "train_data[1]"
   ]
  },
  {
   "cell_type": "markdown",
   "metadata": {},
   "source": [
    "## Create vocabularies with words and special tokens"
   ]
  },
  {
   "cell_type": "code",
   "execution_count": 10,
   "metadata": {},
   "outputs": [],
   "source": [
    "min_freq = 3 # for a word to appear\n",
    "unk_token = \"<unk>\"\n",
    "pad_token = \"<pad>\"\n",
    "\n",
    "special_tokens = [\n",
    "    unk_token,\n",
    "    pad_token,\n",
    "    sos_token,\n",
    "    eos_token,\n",
    "]\n",
    "\n",
    "# Tokens ONLY from train set\n",
    "all_en_tokens = train_data[\"en_tokens\"]\n",
    "all_de_tokens = train_data[\"de_tokens\"]\n",
    "\n",
    "# Build vocabularies\n",
    "en_vocab = torchtext.vocab.build_vocab_from_iterator(\n",
    "    all_en_tokens,\n",
    "    min_freq=min_freq,\n",
    "    specials=special_tokens,\n",
    ")\n",
    "\n",
    "de_vocab = torchtext.vocab.build_vocab_from_iterator(\n",
    "    all_de_tokens,\n",
    "    min_freq=min_freq,\n",
    "    specials=special_tokens,\n",
    ")"
   ]
  },
  {
   "cell_type": "markdown",
   "metadata": {},
   "source": [
    "## Get indices of special tokens and set return index for non existing word in our vocabulary"
   ]
  },
  {
   "cell_type": "code",
   "execution_count": 11,
   "metadata": {},
   "outputs": [
    {
     "data": {
      "text/plain": [
       "(['<unk>', '<pad>', '<sos>', '<eos>', 'die', 'der', 'und', 'in'],\n",
       " ['<unk>', '<pad>', '<sos>', '<eos>', 'the', 'of', 'to', 'and'])"
      ]
     },
     "execution_count": 11,
     "metadata": {},
     "output_type": "execute_result"
    }
   ],
   "source": [
    "unk_index = en_vocab[unk_token]\n",
    "pad_index = en_vocab[pad_token]\n",
    "\n",
    "en_vocab.set_default_index(unk_index)\n",
    "de_vocab.set_default_index(unk_index)\n",
    "x = 8\n",
    "\n",
    "de_vocab.get_itos()[:x], en_vocab.get_itos()[:x]"
   ]
  },
  {
   "cell_type": "code",
   "execution_count": 12,
   "metadata": {},
   "outputs": [
    {
     "data": {
      "text/plain": [
       "(torchtext.vocab.vocab.Vocab, 4437, 5335)"
      ]
     },
     "execution_count": 12,
     "metadata": {},
     "output_type": "execute_result"
    }
   ],
   "source": [
    "type(de_vocab), len(en_vocab), len(de_vocab)"
   ]
  },
  {
   "cell_type": "markdown",
   "metadata": {},
   "source": [
    "## word2index"
   ]
  },
  {
   "cell_type": "code",
   "execution_count": 13,
   "metadata": {},
   "outputs": [
    {
     "name": "stderr",
     "output_type": "stream",
     "text": [
      "Map: 100%|██████████| 7006/7006 [00:01<00:00, 4989.33 examples/s]\n",
      "Map: 100%|██████████| 610/610 [00:00<00:00, 5011.32 examples/s]\n",
      "Map: 100%|██████████| 1904/1904 [00:00<00:00, 5357.47 examples/s]\n"
     ]
    }
   ],
   "source": [
    "def numericalize_example(example, en_vocab, de_vocab):\n",
    "    # Convert token lists to their corresponding indices\n",
    "    en_ids = en_vocab.lookup_indices(example[\"en_tokens\"])\n",
    "    de_ids = de_vocab.lookup_indices(example[\"de_tokens\"])\n",
    "    return {\"en_ids\": en_ids, \"de_ids\": de_ids}\n",
    "\n",
    "# Dictionary of keyword arguments for the function\n",
    "fn_kwargs = {\"en_vocab\": en_vocab, \"de_vocab\": de_vocab}\n",
    "\n",
    "# Apply the numericalization function to each split of the dataset\n",
    "train_data = train_data.map(numericalize_example, fn_kwargs=fn_kwargs)\n",
    "valid_data = valid_data.map(numericalize_example, fn_kwargs=fn_kwargs)\n",
    "test_data = test_data.map(numericalize_example, fn_kwargs=fn_kwargs)"
   ]
  },
  {
   "cell_type": "code",
   "execution_count": 14,
   "metadata": {},
   "outputs": [
    {
     "data": {
      "text/plain": [
       "(datasets.arrow_dataset.Dataset,\n",
       " {'de': 'bericht von frau maría rodríguez ramos im namen des ausschusses für landwirtschaft und ländliche entwicklung über die multifunktionalität der landwirtschaft und die reform der gemeinsamen agrarpolitik ini',\n",
       "  'en': 'report by maría rodríguez ramos on behalf of the committee on agriculture and rural development on multifunctional agriculture and the reform of the cap ini',\n",
       "  '__index_level_0__': 5944,\n",
       "  'en_tokens': ['<sos>',\n",
       "   'report',\n",
       "   'by',\n",
       "   'maría',\n",
       "   'rodríguez',\n",
       "   'ramos',\n",
       "   'on',\n",
       "   'behalf',\n",
       "   'of',\n",
       "   'the',\n",
       "   'committee',\n",
       "   'on',\n",
       "   'agriculture',\n",
       "   'and',\n",
       "   'rural',\n",
       "   'development',\n",
       "   'on',\n",
       "   'multifunctional',\n",
       "   'agriculture',\n",
       "   'and',\n",
       "   'the',\n",
       "   'reform',\n",
       "   'of',\n",
       "   'the',\n",
       "   'cap',\n",
       "   'ini',\n",
       "   '<eos>'],\n",
       "  'de_tokens': ['<sos>',\n",
       "   'bericht',\n",
       "   'von',\n",
       "   'frau',\n",
       "   'maría',\n",
       "   'rodríguez',\n",
       "   'ramos',\n",
       "   'im',\n",
       "   'namen',\n",
       "   'des',\n",
       "   'ausschusses',\n",
       "   'für',\n",
       "   'landwirtschaft',\n",
       "   'und',\n",
       "   'ländliche',\n",
       "   'entwicklung',\n",
       "   'über',\n",
       "   'die',\n",
       "   'multifunktionalität',\n",
       "   'der',\n",
       "   'landwirtschaft',\n",
       "   'und',\n",
       "   'die',\n",
       "   'reform',\n",
       "   'der',\n",
       "   'gemeinsamen',\n",
       "   'agrarpolitik',\n",
       "   'ini',\n",
       "   '<eos>'],\n",
       "  'en_ids': [2,\n",
       "   52,\n",
       "   27,\n",
       "   0,\n",
       "   0,\n",
       "   0,\n",
       "   16,\n",
       "   333,\n",
       "   5,\n",
       "   4,\n",
       "   103,\n",
       "   16,\n",
       "   472,\n",
       "   7,\n",
       "   578,\n",
       "   113,\n",
       "   16,\n",
       "   0,\n",
       "   472,\n",
       "   7,\n",
       "   4,\n",
       "   565,\n",
       "   5,\n",
       "   4,\n",
       "   1917,\n",
       "   3349,\n",
       "   3],\n",
       "  'de_ids': [2,\n",
       "   71,\n",
       "   14,\n",
       "   79,\n",
       "   0,\n",
       "   0,\n",
       "   0,\n",
       "   24,\n",
       "   199,\n",
       "   19,\n",
       "   327,\n",
       "   10,\n",
       "   428,\n",
       "   6,\n",
       "   1424,\n",
       "   129,\n",
       "   40,\n",
       "   4,\n",
       "   0,\n",
       "   5,\n",
       "   428,\n",
       "   6,\n",
       "   4,\n",
       "   1059,\n",
       "   5,\n",
       "   210,\n",
       "   917,\n",
       "   3681,\n",
       "   3]})"
      ]
     },
     "execution_count": 14,
     "metadata": {},
     "output_type": "execute_result"
    }
   ],
   "source": [
    "type(train_data), train_data[1]"
   ]
  },
  {
   "cell_type": "markdown",
   "metadata": {},
   "source": [
    "## Indices of words as torch tensor"
   ]
  },
  {
   "cell_type": "code",
   "execution_count": 15,
   "metadata": {},
   "outputs": [],
   "source": [
    "# Covert ids to torch tensors\n",
    "data_type = \"torch\"\n",
    "format_columns = [\"en_ids\", \"de_ids\"]\n",
    "\n",
    "train_data = train_data.with_format(\n",
    "    type=data_type, columns=format_columns, output_all_columns=True\n",
    ")\n",
    "\n",
    "valid_data = valid_data.with_format(\n",
    "    type=data_type,\n",
    "    columns=format_columns,\n",
    "    output_all_columns=True,\n",
    ")\n",
    "\n",
    "test_data = test_data.with_format(\n",
    "    type=data_type,\n",
    "    columns=format_columns,\n",
    "    output_all_columns=True,\n",
    ")"
   ]
  },
  {
   "cell_type": "markdown",
   "metadata": {},
   "source": [
    "## Padding"
   ]
  },
  {
   "cell_type": "code",
   "execution_count": 16,
   "metadata": {},
   "outputs": [],
   "source": [
    "# Padding\n",
    "# All the German sentences will have length x and all the English sentences will have length y in each batch\n",
    "def get_collate_fn(pad_index):\n",
    "    def collate_fn(batch):\n",
    "        batch_en_ids = [example[\"en_ids\"] for example in batch]\n",
    "        batch_de_ids = [example[\"de_ids\"] for example in batch]\n",
    "        batch_en_ids = nn.utils.rnn.pad_sequence(batch_en_ids, padding_value=pad_index)\n",
    "        batch_de_ids = nn.utils.rnn.pad_sequence(batch_de_ids, padding_value=pad_index)\n",
    "        batch = {\n",
    "            \"en_ids\": batch_en_ids,\n",
    "            \"de_ids\": batch_de_ids,\n",
    "        }\n",
    "        return batch\n",
    "\n",
    "    return collate_fn"
   ]
  },
  {
   "cell_type": "markdown",
   "metadata": {},
   "source": [
    "## DataLoaders with collate_fn function"
   ]
  },
  {
   "cell_type": "code",
   "execution_count": 17,
   "metadata": {},
   "outputs": [],
   "source": [
    "# Will give DataLoaders based on provided dataset\n",
    "def get_data_loader(dataset, batch_size, pad_index, shuffle=False):\n",
    "    collate_fn = get_collate_fn(pad_index)\n",
    "    data_loader = torch.utils.data.DataLoader(\n",
    "        dataset=dataset,\n",
    "        batch_size=batch_size,\n",
    "        collate_fn=collate_fn,\n",
    "        shuffle=shuffle,\n",
    "    )\n",
    "    return data_loader"
   ]
  },
  {
   "cell_type": "markdown",
   "metadata": {},
   "source": [
    "## Crate data loaders"
   ]
  },
  {
   "cell_type": "code",
   "execution_count": 18,
   "metadata": {},
   "outputs": [],
   "source": [
    "batch_size = 64\n",
    "\n",
    "train_data_loader = get_data_loader(train_data, batch_size, pad_index, shuffle=True)\n",
    "valid_data_loader = get_data_loader(valid_data, batch_size, pad_index, shuffle=False)\n",
    "test_data_loader = get_data_loader(test_data, batch_size, pad_index, shuffle=False)"
   ]
  },
  {
   "cell_type": "markdown",
   "metadata": {},
   "source": [
    "## RNN based seq2seq architecture"
   ]
  },
  {
   "cell_type": "code",
   "execution_count": 19,
   "metadata": {},
   "outputs": [],
   "source": [
    "# Simple Attention Mechanism\n",
    "class Attention(nn.Module):\n",
    "    def __init__(self, hidden_dim):\n",
    "        super().__init__()\n",
    "        self.Wa = nn.Linear(hidden_dim, hidden_dim)\n",
    "        self.Ua = nn.Linear(hidden_dim, hidden_dim)\n",
    "        self.Va = nn.Linear(hidden_dim, 1, bias=False)\n",
    "\n",
    "    def forward(self, hidden, encoder_outputs):\n",
    "        # hidden: [batch size, hidden dim]\n",
    "        # encoder_outputs: [src len, batch size, hidden dim]\n",
    "\n",
    "        # Repeat hidden state src_len times\n",
    "        src_len = encoder_outputs.shape[0]\n",
    "        hidden = hidden[-1].unsqueeze(1).repeat(1, src_len, 1)  # [batch size, src len, hidden dim]\n",
    "\n",
    "        # Compute energy scores\n",
    "        energy = torch.tanh(self.Wa(hidden) + self.Ua(encoder_outputs.permute(1, 0, 2)))  # [batch size, src len, hidden dim]\n",
    "        scores = self.Va(energy).squeeze(2)  # [batch size, src len]\n",
    "\n",
    "        # Compute attention weights\n",
    "        attn_weights = torch.softmax(scores, dim=1)  # [batch size, src len]\n",
    "\n",
    "        # Compute context vector as weighted sum of encoder outputs\n",
    "        encoder_outputs = encoder_outputs.permute(1, 0, 2)  # [batch size, src len, hidden dim]\n",
    "        context = torch.bmm(attn_weights.unsqueeze(1), encoder_outputs).squeeze(1)  # [batch size, hidden dim]\n",
    "\n",
    "        return context, attn_weights\n",
    "\n",
    "\n",
    "class Encoder(nn.Module):\n",
    "    def __init__(self, input_dim, embedding_dim, hidden_dim, n_layers, dropout):\n",
    "        super().__init__()\n",
    "        self.hidden_dim = hidden_dim\n",
    "        self.n_layers = n_layers\n",
    "        self.embedding = nn.Embedding(input_dim, embedding_dim)\n",
    "        self.rnn = nn.LSTM(embedding_dim, hidden_dim, n_layers, dropout=dropout, batch_first=False)\n",
    "        self.dropout = nn.Dropout(dropout)\n",
    "\n",
    "    def forward(self, src):\n",
    "        embedded = self.dropout(self.embedding(src))  # [src len, batch size, embedding dim]\n",
    "        outputs, (hidden, cell) = self.rnn(embedded)  # outputs: [src len, batch size, hidden dim]\n",
    "        return outputs, hidden, cell\n",
    "    \n",
    "class Decoder(nn.Module):\n",
    "    def __init__(self, output_dim, embedding_dim, hidden_dim, n_layers, dropout):\n",
    "        super().__init__()\n",
    "        self.output_dim = output_dim\n",
    "        self.hidden_dim = hidden_dim\n",
    "        self.n_layers = n_layers\n",
    "        self.embedding = nn.Embedding(output_dim, embedding_dim)\n",
    "        self.rnn = nn.LSTM(embedding_dim + hidden_dim, hidden_dim, n_layers, dropout=dropout, batch_first=False)\n",
    "        self.fc_out = nn.Linear(hidden_dim, output_dim)\n",
    "        self.dropout = nn.Dropout(dropout)\n",
    "        self.attention = Attention(hidden_dim)\n",
    "\n",
    "    def forward(self, input, hidden, cell, encoder_outputs):\n",
    "        input = input.unsqueeze(0)  # [1, batch size]\n",
    "        embedded = self.dropout(self.embedding(input))  # [1, batch size, embedding dim]\n",
    "\n",
    "        # Compute attention context vector\n",
    "        context, attn_weights = self.attention(hidden, encoder_outputs)  # context: [batch size, hidden dim]\n",
    "\n",
    "        # Concatenate embedded input with context\n",
    "        rnn_input = torch.cat((embedded, context.unsqueeze(0)), dim=2)  # [1, batch size, embedding dim + hidden dim]\n",
    "\n",
    "        # Pass input through RNN\n",
    "        output, (hidden, cell) = self.rnn(rnn_input, (hidden, cell))  # output: [1, batch size, hidden dim]\n",
    "\n",
    "        # Pass through fully connected layer\n",
    "        prediction = self.fc_out(output.squeeze(0))  # [batch size, output dim]\n",
    "\n",
    "        return prediction, hidden, cell, attn_weights\n",
    "\n",
    "    \n",
    "class Seq2Seq(nn.Module):\n",
    "    def __init__(self, encoder, decoder, device):\n",
    "        super().__init__()\n",
    "        self.encoder = encoder\n",
    "        self.decoder = decoder\n",
    "        self.device = device\n",
    "\n",
    "    def forward(self, src, trg, teacher_forcing_ratio=0.5):\n",
    "        batch_size = trg.shape[1]\n",
    "        trg_len = trg.shape[0]\n",
    "        trg_vocab_size = self.decoder.output_dim\n",
    "\n",
    "        outputs = torch.zeros(trg_len, batch_size, trg_vocab_size).to(self.device)\n",
    "        encoder_outputs, hidden, cell = self.encoder(src)\n",
    "\n",
    "        input = trg[0, :]\n",
    "        for t in range(1, trg_len):\n",
    "            output, hidden, cell, _ = self.decoder(input, hidden, cell, encoder_outputs)\n",
    "            outputs[t] = output\n",
    "            teacher_force = random.random() < teacher_forcing_ratio\n",
    "            top1 = output.argmax(1)\n",
    "            input = trg[t] if teacher_force else top1\n",
    "\n",
    "        return outputs"
   ]
  },
  {
   "cell_type": "markdown",
   "metadata": {},
   "source": [
    "## Set parameters"
   ]
  },
  {
   "cell_type": "code",
   "execution_count": 20,
   "metadata": {},
   "outputs": [],
   "source": [
    "input_dim = len(de_vocab)\n",
    "output_dim = len(en_vocab)\n",
    "\n",
    "encoder_embedding_dim = 300\n",
    "decoder_embedding_dim = 300\n",
    "hidden_dim = 256\n",
    "n_layers = 2\n",
    "encoder_dropout = 0.5\n",
    "decoder_dropout = 0.5\n",
    "\n",
    "encoder = Encoder(\n",
    "    input_dim,\n",
    "    encoder_embedding_dim,\n",
    "    hidden_dim,\n",
    "    n_layers,\n",
    "    encoder_dropout,\n",
    ")\n",
    "\n",
    "decoder = Decoder(\n",
    "    output_dim,\n",
    "    decoder_embedding_dim,\n",
    "    hidden_dim,\n",
    "    n_layers,\n",
    "    decoder_dropout,\n",
    ")"
   ]
  },
  {
   "cell_type": "markdown",
   "metadata": {},
   "source": [
    "## Train and evaluation loops"
   ]
  },
  {
   "cell_type": "code",
   "execution_count": 21,
   "metadata": {},
   "outputs": [],
   "source": [
    "def train_fn(\n",
    "    model, data_loader, optimizer, criterion, clip, teacher_forcing_ratio, device\n",
    "):\n",
    "    model.train()\n",
    "    epoch_loss = 0\n",
    "    for i, batch in enumerate(tqdm(data_loader)):\n",
    "        src = batch[\"de_ids\"].to(device)\n",
    "        trg = batch[\"en_ids\"].to(device)\n",
    "\n",
    "        optimizer.zero_grad()\n",
    "        \n",
    "        output = model(src, trg, teacher_forcing_ratio)\n",
    "\n",
    "        output_dim = output.shape[-1]\n",
    "\n",
    "        output = output[1:].view(-1, output_dim)\n",
    "\n",
    "        trg = trg[1:].view(-1)\n",
    "\n",
    "        loss = criterion(output, trg)\n",
    "\n",
    "        loss.backward()\n",
    "\n",
    "        torch.nn.utils.clip_grad_norm_(model.parameters(), clip)\n",
    "        \n",
    "        optimizer.step()\n",
    "        epoch_loss += loss.item()\n",
    "    return epoch_loss / len(data_loader)\n",
    "\n",
    "def evaluate_fn(model, data_loader, criterion, device):\n",
    "    model.eval()\n",
    "    epoch_loss = 0\n",
    "    with torch.no_grad():\n",
    "        for i, batch in enumerate(tqdm(data_loader)):\n",
    "            src = batch[\"de_ids\"].to(device)\n",
    "            trg = batch[\"en_ids\"].to(device)\n",
    "\n",
    "            output = model(src, trg, 0)\n",
    "\n",
    "            output_dim = output.shape[-1]\n",
    "            \n",
    "            output = output[1:].view(-1, output_dim)\n",
    "\n",
    "            trg = trg[1:].view(-1)\n",
    "\n",
    "            loss = criterion(output, trg)\n",
    "\n",
    "            epoch_loss += loss.item()\n",
    "\n",
    "    return epoch_loss / len(data_loader)"
   ]
  },
  {
   "cell_type": "markdown",
   "metadata": {},
   "source": [
    "## Load GloVe Embedding Matrices. Train with GloVe embeddings. Evaluate with GloVe embeddings."
   ]
  },
  {
   "cell_type": "markdown",
   "metadata": {},
   "source": [
    "### Load embeddings"
   ]
  },
  {
   "cell_type": "code",
   "execution_count": 22,
   "metadata": {},
   "outputs": [],
   "source": [
    "os.makedirs(\"embeddings\", exist_ok=True)\n",
    "import torch\n",
    "from torchtext.vocab import Vocab\n",
    "\n",
    "# Create glove embedding matrices\n",
    "def load_glove_embeddings(glove_file, vocab: Vocab, embedding_dim: int):\n",
    "    # Initialize the embedding matrix with small random values using PyTorch\n",
    "    embedding_matrix = torch.randn((len(vocab), embedding_dim)) * 0.01\n",
    "    \n",
    "    # Load pre-trained GloVe embeddings\n",
    "    with open(glove_file, 'r', encoding='utf-8') as f:\n",
    "        for line in f:\n",
    "            parts = line.split()\n",
    "            word = parts[0]\n",
    "            if word in vocab:  # Check if the word is in the vocabulary\n",
    "                idx = vocab.get_stoi()[word]\n",
    "                embedding_vector = torch.tensor([float(val) for val in parts[1:]], dtype=torch.float32)\n",
    "                embedding_matrix[idx] = embedding_vector\n",
    "    \n",
    "    # Initialize special token embeddings\n",
    "    # 0: '<unk>', 1: '<pad>', 2: '<sos>', 3: '<eos>'\n",
    "    embedding_matrix[0] = torch.randn(embedding_dim) * 0.1  # Small random values for unknown\n",
    "    embedding_matrix[1] = torch.zeros(embedding_dim)  # Zero initialization for padding token\n",
    "    embedding_matrix[2] = torch.randn(embedding_dim) * 0.1  # Small random values (sos)\n",
    "    embedding_matrix[3] = torch.randn(embedding_dim) * 0.1  # Small random values (eos)\n",
    "    \n",
    "    return embedding_matrix\n",
    "\n",
    "embedding_dim = 300\n",
    "en_glove_file = 'glove.6B.300d.txt'\n",
    "de_glove_file = 'glove.de.txt' # https://www.deepset.ai/german-word-embeddings\n",
    "\n",
    "# en_gembedding_matrix = load_glove_embeddings(en_glove_file, en_vocab, embedding_dim)\n",
    "# de_gembedding_matrix = load_glove_embeddings(de_glove_file, de_vocab, embedding_dim)\n",
    "\n",
    "# Save the embedding matrices\n",
    "# torch.save(en_gembedding_matrix, 'embeddings/en_gembedding_matrix.pt')\n",
    "# torch.save(de_gembedding_matrix, 'embeddings/de_gembedding_matrix.pt')\n",
    "\n",
    "# Load the embedding matrices\n",
    "en_gembedding_matrix = torch.load('embeddings/en_gembedding_matrix.pt')\n",
    "de_gembedding_matrix = torch.load('embeddings/de_gembedding_matrix.pt')"
   ]
  },
  {
   "cell_type": "markdown",
   "metadata": {},
   "source": [
    "### Train German to English model with GloVe embeddings"
   ]
  },
  {
   "cell_type": "code",
   "execution_count": 23,
   "metadata": {},
   "outputs": [],
   "source": [
    "os.makedirs(\"models\", exist_ok=True)\n",
    "\n",
    "import gc\n",
    "gc.collect()\n",
    "torch.cuda.empty_cache()\n",
    "\n",
    "model = Seq2Seq(encoder, decoder, device).to(device)\n",
    "\n",
    "# Load our preptrained GloVe embeddings\n",
    "encoder.embedding.weight.data.copy_(de_gembedding_matrix)\n",
    "decoder.embedding.weight.data.copy_(en_gembedding_matrix)\n",
    "\n",
    "optimizer = optim.Adam(model.parameters())\n",
    "criterion = nn.CrossEntropyLoss(ignore_index=pad_index)\n",
    "\n",
    "\n",
    "n_epochs = 10\n",
    "clip = 1.0\n",
    "teacher_forcing_ratio = 0.5\n",
    "best_valid_loss = float(\"inf\")\n",
    "\n",
    "for epoch in range(n_epochs):\n",
    "    train_loss = train_fn(\n",
    "        model,\n",
    "        train_data_loader,\n",
    "        optimizer,\n",
    "        criterion,\n",
    "        clip,\n",
    "        teacher_forcing_ratio,\n",
    "        device,\n",
    "    )\n",
    "    valid_loss = evaluate_fn(\n",
    "        model,\n",
    "        valid_data_loader,\n",
    "        criterion,\n",
    "        device,\n",
    "    )\n",
    "    if valid_loss < best_valid_loss:\n",
    "        best_valid_loss = valid_loss\n",
    "        torch.save(model.state_dict(), \"models/word_model_glove_de_en_attention.pt\")\n",
    "    print(f\"\\tTrain Loss: {train_loss:7.3f} | Train PPL: {np.exp(train_loss):7.3f}\")\n",
    "    print(f\"\\tValid Loss: {valid_loss:7.3f} | Valid PPL: {np.exp(valid_loss):7.3f}\")\n",
    "    print(f\"Batch {epoch+1} done \\n\")"
   ]
  },
  {
   "cell_type": "markdown",
   "metadata": {},
   "source": [
    "### Evaluate German to English with BLEU and ROUGH scores with GloVe embeddings."
   ]
  },
  {
   "cell_type": "code",
   "execution_count": 24,
   "metadata": {},
   "outputs": [
    {
     "name": "stderr",
     "output_type": "stream",
     "text": [
      "100%|██████████| 30/30 [00:05<00:00,  5.35it/s]"
     ]
    },
    {
     "name": "stdout",
     "output_type": "stream",
     "text": [
      "| Test Loss: 5.760 | Test PPL: 317.302 |\n"
     ]
    },
    {
     "name": "stderr",
     "output_type": "stream",
     "text": [
      "\n"
     ]
    }
   ],
   "source": [
    "model.load_state_dict(torch.load(\"models/word_model_glove_de_en_attention.pt\"))\n",
    "test_loss = evaluate_fn(model, test_data_loader, criterion, device)\n",
    "\n",
    "print(f\"| Test Loss: {test_loss:.3f} | Test PPL: {np.exp(test_loss):7.3f} |\")"
   ]
  },
  {
   "cell_type": "code",
   "execution_count": 25,
   "metadata": {},
   "outputs": [],
   "source": [
    "import evaluate\n",
    "# Load BLEU metric\n",
    "bleu = evaluate.load(\"bleu\")\n",
    "\n",
    "def translate_sentence(\n",
    "    sentence,\n",
    "    model,\n",
    "    en_nlp,\n",
    "    de_nlp,\n",
    "    en_vocab,\n",
    "    de_vocab,\n",
    "    lower,\n",
    "    sos_token,\n",
    "    eos_token,\n",
    "    device,\n",
    "    max_output_length=25,\n",
    "):\n",
    "    model.eval()\n",
    "    with torch.no_grad():\n",
    "        if isinstance(sentence, str):\n",
    "            tokens = [token.text for token in de_nlp.tokenizer(sentence)]\n",
    "        else:\n",
    "            tokens = [token for token in sentence]\n",
    "        if lower:\n",
    "            tokens = [token.lower() for token in tokens]\n",
    "        tokens = [sos_token] + tokens + [eos_token]\n",
    "        ids = de_vocab.lookup_indices(tokens)\n",
    "        tensor = torch.LongTensor(ids).unsqueeze(-1).to(device)\n",
    "        outputs, hidden, cell = model.encoder(tensor)\n",
    "\n",
    "        inputs = en_vocab.lookup_indices([sos_token])\n",
    "        all_attention_weights = []  # Collect attention weights for each step\n",
    "\n",
    "        for _ in range(max_output_length):\n",
    "            inputs_tensor = torch.LongTensor([inputs[-1]]).to(device)\n",
    "            output, hidden, cell, attention_weights = model.decoder(inputs_tensor, hidden, cell, outputs)\n",
    "            all_attention_weights.append(attention_weights.cpu().numpy())  # Store attention weights\n",
    "            predicted_token = output.argmax(-1).item()\n",
    "            inputs.append(predicted_token)\n",
    "\n",
    "            if predicted_token == en_vocab[eos_token]:\n",
    "                break\n",
    "        tokens = en_vocab.lookup_tokens(inputs)\n",
    "    return tokens, all_attention_weights"
   ]
  },
  {
   "cell_type": "code",
   "execution_count": 26,
   "metadata": {},
   "outputs": [
    {
     "data": {
      "text/plain": [
       "('diese mission erscheint mir als besonders zweckmäßig da die europäische union der wichtigste partner sowohl in bezug auf die entwicklungshilfe als auch auf die wirtschaftliche zusammenarbeit und gleichzeitig der hauptinvestor in peru ist',\n",
       " 'this mission seems to me to be particularly appropriate since the european union is the main provider of development aid and economic cooperation and it is also the main investor in peru')"
      ]
     },
     "execution_count": 26,
     "metadata": {},
     "output_type": "execute_result"
    }
   ],
   "source": [
    "sentence = test_data[0][\"de\"]\n",
    "expected_translation = test_data[0][\"en\"]\n",
    "\n",
    "sentence, expected_translation"
   ]
  },
  {
   "cell_type": "code",
   "execution_count": 27,
   "metadata": {},
   "outputs": [
    {
     "data": {
      "text/plain": [
       "['<sos>',\n",
       " 'the',\n",
       " 'the',\n",
       " 'of',\n",
       " 'the',\n",
       " 'the',\n",
       " 'of',\n",
       " 'the',\n",
       " 'the',\n",
       " '<unk>',\n",
       " 'of',\n",
       " 'the',\n",
       " 'the',\n",
       " 'the',\n",
       " 'the',\n",
       " 'the',\n",
       " '<unk>',\n",
       " 'of',\n",
       " 'the',\n",
       " '<unk>',\n",
       " 'of',\n",
       " 'the',\n",
       " '<unk>',\n",
       " 'of',\n",
       " 'the',\n",
       " '<unk>']"
      ]
     },
     "execution_count": 27,
     "metadata": {},
     "output_type": "execute_result"
    }
   ],
   "source": [
    "translation = translate_sentence(\n",
    "    sentence,\n",
    "    model,\n",
    "    en_nlp,\n",
    "    de_nlp,\n",
    "    en_vocab,\n",
    "    de_vocab,\n",
    "    lower,\n",
    "    sos_token,\n",
    "    eos_token,\n",
    "    device,\n",
    ")\n",
    "\n",
    "translation[0]"
   ]
  },
  {
   "cell_type": "code",
   "execution_count": 28,
   "metadata": {},
   "outputs": [
    {
     "name": "stderr",
     "output_type": "stream",
     "text": [
      "100%|██████████| 1904/1904 [01:01<00:00, 30.74it/s]\n"
     ]
    }
   ],
   "source": [
    "import evaluate\n",
    "from tqdm import tqdm\n",
    "import numpy as np\n",
    "import matplotlib.pyplot as plt\n",
    "import seaborn as sns\n",
    "\n",
    "# Updated function to translate sentences from English to German and return attention weights\n",
    "translations = [\n",
    "    translate_sentence(\n",
    "        example[\"de\"],\n",
    "        model,\n",
    "        en_nlp,\n",
    "        de_nlp,\n",
    "        en_vocab,\n",
    "        de_vocab,\n",
    "        lower,\n",
    "        sos_token,\n",
    "        eos_token,\n",
    "        device\n",
    "    )\n",
    "    for example in tqdm(test_data)\n",
    "]"
   ]
  },
  {
   "cell_type": "code",
   "execution_count": 29,
   "metadata": {},
   "outputs": [],
   "source": [
    "bleu = evaluate.load(\"bleu\")"
   ]
  },
  {
   "cell_type": "code",
   "execution_count": 30,
   "metadata": {},
   "outputs": [],
   "source": [
    "# Format the predictions and attention weights for BLEU evaluation\n",
    "predictions = [\" \".join(translation[0][1:-1]) for translation in translations]  # Translation without <sos> and <eos>\n",
    "references = [[example[\"en\"]] for example in test_data]  # List of references for BLEU evaluation"
   ]
  },
  {
   "cell_type": "code",
   "execution_count": 31,
   "metadata": {},
   "outputs": [
    {
     "data": {
      "text/plain": [
       "('the is not to the the the of the <unk> of the <unk> of the',\n",
       " ['some people do not like you because you are too european and others because of ideological prejudice'])"
      ]
     },
     "execution_count": 31,
     "metadata": {},
     "output_type": "execute_result"
    }
   ],
   "source": [
    "predictions[7], references[7]"
   ]
  },
  {
   "cell_type": "code",
   "execution_count": 32,
   "metadata": {},
   "outputs": [],
   "source": [
    "# Function to get the tokenizer\n",
    "def get_tokenizer_fn(nlp, lower):\n",
    "    def tokenizer_fn(s):\n",
    "        # Split the text by spaces first to handle special tokens\n",
    "        tokens = s.split()\n",
    "        # Process each token using the NLP tokenizer, except for special tokens\n",
    "        processed_tokens = []\n",
    "        for token in tokens:\n",
    "            if token == \"<unk>\" or \"<sos>\" or \"<eos>\":\n",
    "                processed_tokens.append(token)\n",
    "            else:\n",
    "                processed_tokens.extend([tok.text for tok in nlp.tokenizer(token)])\n",
    "        # Convert to lowercase if required\n",
    "        if lower:\n",
    "            processed_tokens = [token.lower() for token in processed_tokens]\n",
    "        return processed_tokens\n",
    "    return tokenizer_fn\n",
    "\n",
    "# Get the tokenizer function\n",
    "tokenizer_fn = get_tokenizer_fn(en_nlp, lower)"
   ]
  },
  {
   "cell_type": "code",
   "execution_count": 33,
   "metadata": {},
   "outputs": [
    {
     "data": {
      "text/plain": [
       "(['the',\n",
       "  'the',\n",
       "  'of',\n",
       "  'the',\n",
       "  'the',\n",
       "  'of',\n",
       "  'the',\n",
       "  'the',\n",
       "  '<unk>',\n",
       "  'of',\n",
       "  'the',\n",
       "  'the',\n",
       "  'the',\n",
       "  'the',\n",
       "  'the',\n",
       "  '<unk>',\n",
       "  'of',\n",
       "  'the',\n",
       "  '<unk>',\n",
       "  'of',\n",
       "  'the',\n",
       "  '<unk>',\n",
       "  'of',\n",
       "  'the'],\n",
       " ['this',\n",
       "  'mission',\n",
       "  'seems',\n",
       "  'to',\n",
       "  'me',\n",
       "  'to',\n",
       "  'be',\n",
       "  'particularly',\n",
       "  'appropriate',\n",
       "  'since',\n",
       "  'the',\n",
       "  'european',\n",
       "  'union',\n",
       "  'is',\n",
       "  'the',\n",
       "  'main',\n",
       "  'provider',\n",
       "  'of',\n",
       "  'development',\n",
       "  'aid',\n",
       "  'and',\n",
       "  'economic',\n",
       "  'cooperation',\n",
       "  'and',\n",
       "  'it',\n",
       "  'is',\n",
       "  'also',\n",
       "  'the',\n",
       "  'main',\n",
       "  'investor',\n",
       "  'in',\n",
       "  'peru'])"
      ]
     },
     "execution_count": 33,
     "metadata": {},
     "output_type": "execute_result"
    }
   ],
   "source": [
    "tokenizer_fn(predictions[0]), tokenizer_fn(references[0][0])"
   ]
  },
  {
   "cell_type": "code",
   "execution_count": 34,
   "metadata": {},
   "outputs": [],
   "source": [
    "source = test_data[2][\"de\"]\n",
    "\n",
    "prediction, attention_weights = translate_sentence(\n",
    "    source,\n",
    "    model,\n",
    "    en_nlp,\n",
    "    de_nlp,\n",
    "    en_vocab,\n",
    "    de_vocab,\n",
    "    lower,\n",
    "    sos_token,\n",
    "    eos_token,\n",
    "    device,\n",
    ")"
   ]
  },
  {
   "cell_type": "code",
   "execution_count": 35,
   "metadata": {},
   "outputs": [],
   "source": [
    "source_tokens = [token.text for token in en_nlp(source)]\n",
    "predicted_tokens = prediction[1:-1]#[token for token in prediction]"
   ]
  },
  {
   "cell_type": "code",
   "execution_count": 36,
   "metadata": {},
   "outputs": [
    {
     "data": {
      "text/plain": [
       "(10, 11)"
      ]
     },
     "execution_count": 36,
     "metadata": {},
     "output_type": "execute_result"
    }
   ],
   "source": [
    "# Assuming attention_weights is a list of attention arrays for each target token\n",
    "attention_matrix = np.squeeze(attention_weights, axis=1)  # Shape: [target, source]\n",
    "attention_matrix.shape"
   ]
  },
  {
   "cell_type": "code",
   "execution_count": 37,
   "metadata": {},
   "outputs": [
    {
     "data": {
      "image/png": "[encoded data removed]",
      "text/plain": [
       "<Figure size 1200x800 with 2 Axes>"
      ]
     },
     "metadata": {},
     "output_type": "display_data"
    }
   ],
   "source": [
    "def plot_attention(source_tokens, predicted_tokens, attention_matrix):\n",
    "    fig, ax = plt.subplots(figsize=(12, 8))\n",
    "    sns.heatmap(attention_matrix, xticklabels=source_tokens, yticklabels=predicted_tokens, cmap='viridis', ax=ax)\n",
    "    plt.xlabel('Source Sentence')\n",
    "    plt.ylabel('Predicted Sentence')\n",
    "    plt.title('Attention Weights')\n",
    "    plt.show()\n",
    "\n",
    "plot_attention(source_tokens, predicted_tokens, attention_matrix)\n"
   ]
  },
  {
   "cell_type": "code",
   "execution_count": null,
   "metadata": {},
   "outputs": [],
   "source": [
    "# Compute BLEU score for each sentence individually\n",
    "sentence_lengths = [len(example[\"de\"].split()) for example in test_data]\n",
    "sentence_bleu_scores = []\n",
    "\n",
    "for pred, ref in zip(predictions, references):\n",
    "    score = bleu.compute(predictions=[pred], references=[ref], tokenizer=tokenizer_fn)\n",
    "    sentence_bleu_scores.append(score[\"bleu\"])\n",
    "\n",
    "# Analyze the relationship between sentence length and BLEU score\n",
    "lengths_vs_scores = list(zip(sentence_lengths, sentence_bleu_scores))\n",
    "\n",
    "\n",
    "# Plot the data\n",
    "sns.scatterplot(x=sentence_lengths, y=sentence_bleu_scores)\n",
    "plt.xlabel(\"Sentence Length\")\n",
    "plt.ylabel(\"BLEU Score\")\n",
    "plt.title(\"Sentence Length vs BLEU Score\")\n",
    "plt.show()\n",
    "\n",
    "# Calculate correlation coefficient\n",
    "correlation = np.corrcoef(sentence_lengths, sentence_bleu_scores)[0, 1]\n",
    "print(f\"Correlation between sentence length and BLEU score: {correlation}\")"
   ]
  },
  {
   "cell_type": "code",
   "execution_count": 53,
   "metadata": {},
   "outputs": [
    {
     "data": {
      "text/plain": [
       "{'bleu': 0.005147737119350844,\n",
       " 'precisions': [0.18939459118414637,\n",
       "  0.021412107242508794,\n",
       "  0.0012549877719140172,\n",
       "  0.0005820921075158363],\n",
       " 'brevity_penalty': 0.697753162935185,\n",
       " 'length_ratio': 0.7353536631658864,\n",
       " 'translation_length': 34869,\n",
       " 'reference_length': 47418}"
      ]
     },
     "execution_count": 53,
     "metadata": {},
     "output_type": "execute_result"
    }
   ],
   "source": [
    "# Compute BLEU score for all sentences\n",
    "results = bleu.compute(\n",
    "    predictions=predictions, references=references, tokenizer=tokenizer_fn\n",
    ")\n",
    "\n",
    "results"
   ]
  },
  {
   "cell_type": "code",
   "execution_count": 54,
   "metadata": {},
   "outputs": [
    {
     "name": "stdout",
     "output_type": "stream",
     "text": [
      "ROUGE scores: {'rouge1': 0.15254624717519408, 'rouge2': 0.015787290554856417, 'rougeL': 0.14346251006697916}\n"
     ]
    }
   ],
   "source": [
    "from rouge_score import rouge_scorer\n",
    "\n",
    "# Adjust the function to ensure `references` is a list of single strings\n",
    "def compute_rouge(predictions, references):\n",
    "    scorer = rouge_scorer.RougeScorer(['rouge1', 'rouge2', 'rougeL'], use_stemmer=True)\n",
    "    \n",
    "    # Initialize score counters\n",
    "    scores = {\"rouge1\": 0, \"rouge2\": 0, \"rougeL\": 0}\n",
    "    count = len(predictions)\n",
    "    \n",
    "    for pred, ref in zip(predictions, references):\n",
    "        # Score method expects both pred and ref to be single strings\n",
    "        score = scorer.score(ref, pred)\n",
    "        for key in scores.keys():\n",
    "            scores[key] += score[key].fmeasure\n",
    "    \n",
    "    # Average scores\n",
    "    for key in scores.keys():\n",
    "        scores[key] /= count\n",
    "    \n",
    "    return scores\n",
    "\n",
    "# Prepare predictions and references\n",
    "# Ensure references are in string format\n",
    "predictions = [\" \".join(translation[0][1:-1]) for translation in translations]\n",
    "references = [example[\"en\"] for example in test_data]  # Ensure this is a list of strings\n",
    "\n",
    "# Compute ROUGE scores\n",
    "rouge_scores = compute_rouge(predictions, references)\n",
    "print(f\"ROUGE scores: {rouge_scores}\")"
   ]
  },
  {
   "cell_type": "markdown",
   "metadata": {},
   "source": [
    "## Load Word2vec embedding Matrices. <br>Train with Word2vec embeddings. <br>Evaluate with Word2vec embeddings."
   ]
  },
  {
   "cell_type": "code",
   "execution_count": 39,
   "metadata": {},
   "outputs": [],
   "source": [
    "os.makedirs(\"embeddings\", exist_ok=True)\n",
    "import gensim\n",
    "\n",
    "def load_word2vec_embeddings(word2vec_file, vocab, embedding_dim, binary=True):\n",
    "    # Initialize the embedding matrix with small random values using PyTorch\n",
    "    embedding_matrix = torch.randn((len(vocab), embedding_dim)) * 0.01\n",
    "    \n",
    "    # Get the string-to-index mapping from the vocabulary\n",
    "    stoi = vocab.get_stoi()\n",
    "    \n",
    "    if binary:\n",
    "        # Load the Word2Vec model from a binary file\n",
    "        word2vec = gensim.models.KeyedVectors.load_word2vec_format(word2vec_file, binary=True)\n",
    "        \n",
    "        # Iterate over each word in the Word2Vec model\n",
    "        for word in word2vec.key_to_index:\n",
    "            if word in vocab:  # Check if the word is in the vocabulary\n",
    "                idx = stoi[word]  # Get the index of the word in the vocabulary\n",
    "                embedding_matrix[idx] = torch.tensor(word2vec[word])  # Place the embedding at the correct index\n",
    "    else:\n",
    "        # Read the embeddings from the text file\n",
    "        with open(word2vec_file, 'r', encoding='utf-8') as f:\n",
    "            for line in f:\n",
    "                parts = line.strip().split()\n",
    "                # Remove the b' and ' from the word part\n",
    "                word = parts[0][2:-1]\n",
    "                vector = torch.tensor([float(x) for x in parts[1:]], dtype=torch.float)\n",
    "                if word in vocab:  # Check if the word is in the vocabulary\n",
    "                    idx = stoi[word]  # Get the index of the word in the vocabulary\n",
    "                    embedding_matrix[idx] = vector  # Place the embedding at the correct index\n",
    "\n",
    "\n",
    "    # Initialize special token embeddings\n",
    "    # 0: '<unk>', 1: '<pad>', 2: '<sos>', 3: '<eos>'\n",
    "    embedding_matrix[0] = torch.randn(embedding_dim) * 0.1  # Small random values for unknown\n",
    "    embedding_matrix[1] = torch.zeros(embedding_dim)  # Zero initialization for padding token\n",
    "    embedding_matrix[2] = torch.randn(embedding_dim) * 0.1  # Small random values (sos)\n",
    "    embedding_matrix[3] = torch.randn(embedding_dim) * 0.1  # Small random values (eos)\n",
    "    \n",
    "    return torch.FloatTensor(embedding_matrix)\n",
    "\n",
    "# Example usage\n",
    "embedding_dim = 300\n",
    "en_word2vec_file = 'GoogleNews-vectors-negative300.bin'\n",
    "de_word2vec_file = 'word2vec.de.txt'\n",
    "\n",
    "# Assuming en_vocab and de_vocab are your vocabularies of type torchtext.vocab.Vocab\n",
    "# en_wembedding_matrix = load_word2vec_embeddings(en_word2vec_file, en_vocab, embedding_dim, binary=True)\n",
    "# de_wembedding_matrix = load_word2vec_embeddings(de_word2vec_file, de_vocab, embedding_dim, binary=False)\n",
    "\n",
    "# Save the embedding matrices\n",
    "# torch.save(en_wembedding_matrix, 'embeddings/en_wembedding_matrix.pt')\n",
    "# torch.save(de_wembedding_matrix, 'embeddings/de_wembedding_matrix.pt')\n",
    "\n",
    "# Load the embedding matrices\n",
    "en_wembedding_matrix = torch.load(\"embeddings/en_wembedding_matrix.pt\")\n",
    "de_wembedding_matrix = torch.load(\"embeddings/de_wembedding_matrix.pt\")"
   ]
  },
  {
   "cell_type": "markdown",
   "metadata": {},
   "source": [
    "### Train with word2vec embeddings"
   ]
  },
  {
   "cell_type": "code",
   "execution_count": 56,
   "metadata": {},
   "outputs": [
    {
     "name": "stderr",
     "output_type": "stream",
     "text": [
      "100%|██████████| 110/110 [01:25<00:00,  1.28it/s]\n",
      "100%|██████████| 10/10 [00:02<00:00,  3.38it/s]\n"
     ]
    },
    {
     "name": "stdout",
     "output_type": "stream",
     "text": [
      "\tTrain Loss:   5.785 | Train PPL: 325.243\n",
      "\tValid Loss:   5.803 | Valid PPL: 331.208\n",
      "Batch 1 done \n",
      "\n"
     ]
    },
    {
     "name": "stderr",
     "output_type": "stream",
     "text": [
      "100%|██████████| 110/110 [01:24<00:00,  1.30it/s]\n",
      "100%|██████████| 10/10 [00:02<00:00,  4.30it/s]\n"
     ]
    },
    {
     "name": "stdout",
     "output_type": "stream",
     "text": [
      "\tTrain Loss:   5.494 | Train PPL: 243.213\n",
      "\tValid Loss:   5.768 | Valid PPL: 319.999\n",
      "Batch 2 done \n",
      "\n"
     ]
    },
    {
     "name": "stderr",
     "output_type": "stream",
     "text": [
      "100%|██████████| 110/110 [01:23<00:00,  1.32it/s]\n",
      "100%|██████████| 10/10 [00:02<00:00,  3.96it/s]\n"
     ]
    },
    {
     "name": "stdout",
     "output_type": "stream",
     "text": [
      "\tTrain Loss:   5.394 | Train PPL: 220.043\n",
      "\tValid Loss:   5.755 | Valid PPL: 315.889\n",
      "Batch 3 done \n",
      "\n"
     ]
    },
    {
     "name": "stderr",
     "output_type": "stream",
     "text": [
      "100%|██████████| 110/110 [01:24<00:00,  1.30it/s]\n",
      "100%|██████████| 10/10 [00:02<00:00,  4.00it/s]\n"
     ]
    },
    {
     "name": "stdout",
     "output_type": "stream",
     "text": [
      "\tTrain Loss:   5.334 | Train PPL: 207.344\n",
      "\tValid Loss:   5.722 | Valid PPL: 305.525\n",
      "Batch 4 done \n",
      "\n"
     ]
    },
    {
     "name": "stderr",
     "output_type": "stream",
     "text": [
      "100%|██████████| 110/110 [01:27<00:00,  1.26it/s]\n",
      "100%|██████████| 10/10 [00:02<00:00,  4.06it/s]\n"
     ]
    },
    {
     "name": "stdout",
     "output_type": "stream",
     "text": [
      "\tTrain Loss:   5.263 | Train PPL: 193.019\n",
      "\tValid Loss:   5.693 | Valid PPL: 296.805\n",
      "Batch 5 done \n",
      "\n"
     ]
    },
    {
     "name": "stderr",
     "output_type": "stream",
     "text": [
      "100%|██████████| 110/110 [01:23<00:00,  1.31it/s]\n",
      "100%|██████████| 10/10 [00:02<00:00,  3.75it/s]\n"
     ]
    },
    {
     "name": "stdout",
     "output_type": "stream",
     "text": [
      "\tTrain Loss:   5.231 | Train PPL: 187.041\n",
      "\tValid Loss:   5.684 | Valid PPL: 293.985\n",
      "Batch 6 done \n",
      "\n"
     ]
    },
    {
     "name": "stderr",
     "output_type": "stream",
     "text": [
      "100%|██████████| 110/110 [01:21<00:00,  1.34it/s]\n",
      "100%|██████████| 10/10 [00:02<00:00,  4.06it/s]\n"
     ]
    },
    {
     "name": "stdout",
     "output_type": "stream",
     "text": [
      "\tTrain Loss:   5.168 | Train PPL: 175.615\n",
      "\tValid Loss:   5.663 | Valid PPL: 288.149\n",
      "Batch 7 done \n",
      "\n"
     ]
    },
    {
     "name": "stderr",
     "output_type": "stream",
     "text": [
      "100%|██████████| 110/110 [01:22<00:00,  1.33it/s]\n",
      "100%|██████████| 10/10 [00:02<00:00,  3.96it/s]\n"
     ]
    },
    {
     "name": "stdout",
     "output_type": "stream",
     "text": [
      "\tTrain Loss:   5.117 | Train PPL: 166.892\n",
      "\tValid Loss:   5.630 | Valid PPL: 278.620\n",
      "Batch 8 done \n",
      "\n"
     ]
    },
    {
     "name": "stderr",
     "output_type": "stream",
     "text": [
      "100%|██████████| 110/110 [01:24<00:00,  1.30it/s]\n",
      "100%|██████████| 10/10 [00:02<00:00,  3.97it/s]\n"
     ]
    },
    {
     "name": "stdout",
     "output_type": "stream",
     "text": [
      "\tTrain Loss:   5.061 | Train PPL: 157.725\n",
      "\tValid Loss:   5.654 | Valid PPL: 285.316\n",
      "Batch 9 done \n",
      "\n"
     ]
    },
    {
     "name": "stderr",
     "output_type": "stream",
     "text": [
      "100%|██████████| 110/110 [01:22<00:00,  1.34it/s]\n",
      "100%|██████████| 10/10 [00:02<00:00,  3.83it/s]"
     ]
    },
    {
     "name": "stdout",
     "output_type": "stream",
     "text": [
      "\tTrain Loss:   5.025 | Train PPL: 152.214\n",
      "\tValid Loss:   5.635 | Valid PPL: 280.002\n",
      "Batch 10 done \n",
      "\n"
     ]
    },
    {
     "name": "stderr",
     "output_type": "stream",
     "text": [
      "\n"
     ]
    }
   ],
   "source": [
    "os.makedirs(\"models\", exist_ok=True)\n",
    "import gc\n",
    "gc.collect()\n",
    "torch.cuda.empty_cache()\n",
    "\n",
    "model = Seq2Seq(encoder, decoder, device).to(device)\n",
    "\n",
    "# Load our preptrained word2vec embeddings\n",
    "encoder.embedding.weight.data.copy_(de_wembedding_matrix)\n",
    "decoder.embedding.weight.data.copy_(en_wembedding_matrix)\n",
    "\n",
    "optimizer = optim.Adam(model.parameters())\n",
    "criterion = nn.CrossEntropyLoss(ignore_index=pad_index)\n",
    "\n",
    "n_epochs = 10\n",
    "clip = 1.0\n",
    "teacher_forcing_ratio = 0.5\n",
    "best_valid_loss = float(\"inf\")\n",
    "\n",
    "for epoch in range(n_epochs):\n",
    "    train_loss = train_fn(\n",
    "        model,\n",
    "        train_data_loader,\n",
    "        optimizer,\n",
    "        criterion,\n",
    "        clip,\n",
    "        teacher_forcing_ratio,\n",
    "        device,\n",
    "    )\n",
    "    valid_loss = evaluate_fn(\n",
    "        model,\n",
    "        valid_data_loader,\n",
    "        criterion,\n",
    "        device,\n",
    "    )\n",
    "    if valid_loss < best_valid_loss:\n",
    "        best_valid_loss = valid_loss\n",
    "        torch.save(model.state_dict(), \"models/word_model_word2vec_de_en_attention.pt\")\n",
    "    print(f\"\\tTrain Loss: {train_loss:7.3f} | Train PPL: {np.exp(train_loss):7.3f}\")\n",
    "    print(f\"\\tValid Loss: {valid_loss:7.3f} | Valid PPL: {np.exp(valid_loss):7.3f}\")\n",
    "    print(f\"Batch {epoch+1} done \\n\")"
   ]
  },
  {
   "cell_type": "markdown",
   "metadata": {},
   "source": [
    "### Evaluate German to English with BLEU and ROUGH scores with Word2Vec embeddings."
   ]
  },
  {
   "cell_type": "code",
   "execution_count": 41,
   "metadata": {},
   "outputs": [
    {
     "name": "stderr",
     "output_type": "stream",
     "text": [
      "100%|██████████| 30/30 [00:05<00:00,  5.69it/s]"
     ]
    },
    {
     "name": "stdout",
     "output_type": "stream",
     "text": [
      "| Test Loss: 5.598 | Test PPL: 269.800 |\n"
     ]
    },
    {
     "name": "stderr",
     "output_type": "stream",
     "text": [
      "\n"
     ]
    }
   ],
   "source": [
    "model.load_state_dict(torch.load(\"models/word_model_word2vec_de_en_attention.pt\"))\n",
    "test_loss = evaluate_fn(model, test_data_loader, criterion, device)\n",
    "\n",
    "print(f\"| Test Loss: {test_loss:.3f} | Test PPL: {np.exp(test_loss):7.3f} |\")"
   ]
  },
  {
   "cell_type": "code",
   "execution_count": 42,
   "metadata": {},
   "outputs": [
    {
     "name": "stderr",
     "output_type": "stream",
     "text": [
      "100%|██████████| 1904/1904 [00:54<00:00, 34.75it/s]\n"
     ]
    }
   ],
   "source": [
    "# Load BLEU metric\n",
    "bleu = evaluate.load(\"bleu\")\n",
    "\n",
    "# Function to translate sentences from English to German\n",
    "translations = [\n",
    "    translate_sentence(\n",
    "        example[\"de\"],\n",
    "        model,\n",
    "        en_nlp,\n",
    "        de_nlp,\n",
    "        en_vocab,\n",
    "        de_vocab,\n",
    "        lower,\n",
    "        sos_token,\n",
    "        eos_token,\n",
    "        device,\n",
    "    )\n",
    "    for example in tqdm(test_data)\n",
    "]\n",
    "\n",
    "# Format the predictions for BLEU evaluation\n",
    "predictions = [\" \".join(translation[0][1:-1]) for translation in translations]\n",
    "references = [[example[\"en\"]] for example in test_data]"
   ]
  },
  {
   "cell_type": "code",
   "execution_count": 43,
   "metadata": {},
   "outputs": [
    {
     "data": {
      "text/plain": [
       "('the the of the <unk> of the <unk> of the <unk> of the the of the the of the the',\n",
       " ['the rules in question are liable to distort competition and may affect trade between switzerland and the eu'])"
      ]
     },
     "execution_count": 43,
     "metadata": {},
     "output_type": "execute_result"
    }
   ],
   "source": [
    "predictions[1], references[1]"
   ]
  },
  {
   "cell_type": "code",
   "execution_count": 44,
   "metadata": {},
   "outputs": [],
   "source": [
    "# Function to get the tokenizer\n",
    "def get_tokenizer_fn(nlp, lower):\n",
    "    def tokenizer_fn(s):\n",
    "        # Split the text by spaces first to handle special tokens\n",
    "        tokens = s.split()\n",
    "        # Process each token using the NLP tokenizer, except for special tokens\n",
    "        processed_tokens = []\n",
    "        for token in tokens:\n",
    "            if token == \"<unk>\" or \"<sos>\" or \"<eos>\":\n",
    "                processed_tokens.append(token)\n",
    "            else:\n",
    "                processed_tokens.extend([tok.text for tok in nlp.tokenizer(token)])\n",
    "        \n",
    "        # Convert to lowercase if required\n",
    "        if lower:\n",
    "            processed_tokens = [token.lower() for token in processed_tokens]\n",
    "        return processed_tokens\n",
    "    return tokenizer_fn\n",
    "\n",
    "# Get the tokenizer function\n",
    "tokenizer_fn = get_tokenizer_fn(en_nlp, lower)"
   ]
  },
  {
   "cell_type": "code",
   "execution_count": 45,
   "metadata": {},
   "outputs": [],
   "source": [
    "source = test_data[2][\"de\"]\n",
    "\n",
    "prediction, attention_weights = translate_sentence(\n",
    "    source,\n",
    "    model,\n",
    "    en_nlp,\n",
    "    de_nlp,\n",
    "    en_vocab,\n",
    "    de_vocab,\n",
    "    lower,\n",
    "    sos_token,\n",
    "    eos_token,\n",
    "    device,\n",
    ")"
   ]
  },
  {
   "cell_type": "code",
   "execution_count": 46,
   "metadata": {},
   "outputs": [],
   "source": [
    "# Tokenize the source and predicted sentences\n",
    "source_tokens = [token.text for token in en_nlp(source)]\n",
    "predicted_tokens = prediction[1:-1]"
   ]
  },
  {
   "cell_type": "code",
   "execution_count": 47,
   "metadata": {},
   "outputs": [],
   "source": [
    "# Squeeze the attention weights to remove the batch dimension\n",
    "attention_matrix = np.squeeze(attention_weights, axis=1)  # Shape: "
   ]
  },
  {
   "cell_type": "code",
   "execution_count": 48,
   "metadata": {},
   "outputs": [
    {
     "data": {
      "image/png": "[encoded data removed]",
      "text/plain": [
       "<Figure size 1200x800 with 2 Axes>"
      ]
     },
     "metadata": {},
     "output_type": "display_data"
    }
   ],
   "source": [
    "def plot_attention(source_tokens, predicted_tokens, attention_matrix):\n",
    "    fig, ax = plt.subplots(figsize=(12, 8))\n",
    "    sns.heatmap(attention_matrix, xticklabels=source_tokens, yticklabels=predicted_tokens, cmap='viridis', ax=ax)\n",
    "    plt.xlabel('Source Sentence')\n",
    "    plt.ylabel('Predicted Sentence')\n",
    "    plt.title('Attention Weights')\n",
    "    plt.show()\n",
    "    \n",
    "# Plot the attention weights\n",
    "plot_attention(source_tokens, predicted_tokens, attention_matrix)"
   ]
  },
  {
   "cell_type": "code",
   "execution_count": 71,
   "metadata": {},
   "outputs": [
    {
     "name": "stdout",
     "output_type": "stream",
     "text": [
      "Top 1 Sentence:\n",
      "Sentence: mr president ladies and gentlemen the <unk> of the <unk> of the <unk>\n",
      "BLEU Score: 0.36624839813098803\n",
      "\n",
      "Top 2 Sentence:\n",
      "Sentence: mr president ladies and gentlemen i am <unk> to the the the the the of the\n",
      "BLEU Score: 0.3192029787618873\n",
      "\n",
      "Top 3 Sentence:\n",
      "Sentence: mr president ladies and gentlemen i would like to the the the the the the the of the the of the european of the\n",
      "BLEU Score: 0.25438304218072993\n",
      "\n"
     ]
    },
    {
     "data": {
      "image/png": "[encoded data removed]",
      "text/plain": [
       "<Figure size 640x480 with 1 Axes>"
      ]
     },
     "metadata": {},
     "output_type": "display_data"
    },
    {
     "name": "stdout",
     "output_type": "stream",
     "text": [
      "Correlation between sentence length and BLEU score: -0.006152711340156572\n"
     ]
    }
   ],
   "source": [
    "# Compute BLEU score for each sentence individually\n",
    "sentence_lengths = [len(example[\"de\"].split()) for example in test_data]\n",
    "sentence_bleu_scores = []\n",
    "\n",
    "for pred, ref in zip(predictions, references):\n",
    "    score = bleu.compute(predictions=[pred], references=[ref], tokenizer=tokenizer_fn)\n",
    "    sentence_bleu_scores.append(score[\"bleu\"])\n",
    "\n",
    "# Pair sentences with their BLEU scores\n",
    "sentences_with_scores = list(zip(predictions, sentence_bleu_scores))\n",
    "\n",
    "# Sort sentences by BLEU score in descending order\n",
    "sorted_sentences = sorted(sentences_with_scores, key=lambda x: x[1], reverse=True)\n",
    "\n",
    "# Select top 5 sentences\n",
    "top_sentences = sorted_sentences[:3]\n",
    "\n",
    "# Display top 5 sentences with their BLEU scores\n",
    "for idx, (sentence, score) in enumerate(top_sentences, start=1):\n",
    "    print(f\"Top {idx} Sentence:\")\n",
    "    print(f\"Sentence: {sentence}\")\n",
    "    print(f\"BLEU Score: {score}\\n\")\n",
    "\n",
    "# Plotting Sentence Length vs BLEU Score\n",
    "lengths_vs_scores = list(zip(sentence_lengths, sentence_bleu_scores))\n",
    "sns.scatterplot(x=[length for length, _ in lengths_vs_scores], y=[score for _, score in lengths_vs_scores])\n",
    "plt.xlabel(\"Sentence Length\")\n",
    "plt.ylabel(\"BLEU Score\")\n",
    "plt.title(\"Sentence Length vs BLEU Score\")\n",
    "plt.show()\n",
    "\n",
    "# Calculate correlation coefficient\n",
    "correlation = np.corrcoef([length for length, _ in lengths_vs_scores], [score for _, score in lengths_vs_scores])[0, 1]\n",
    "print(f\"Correlation between sentence length and BLEU score: {correlation}\")"
   ]
  },
  {
   "cell_type": "code",
   "execution_count": 67,
   "metadata": {},
   "outputs": [
    {
     "data": {
      "text/plain": [
       "{'bleu': 0.01173395451868042,\n",
       " 'precisions': [0.2212152420185376,\n",
       "  0.03478694554409152,\n",
       "  0.005466834537141342,\n",
       "  0.002190038855528082],\n",
       " 'brevity_penalty': 0.6735031434148796,\n",
       " 'length_ratio': 0.7167109536462947,\n",
       " 'translation_length': 33985,\n",
       " 'reference_length': 47418}"
      ]
     },
     "execution_count": 67,
     "metadata": {},
     "output_type": "execute_result"
    }
   ],
   "source": [
    "# Compute BLEU score for all sentences\n",
    "results = bleu.compute(\n",
    "    predictions=predictions, references=references, tokenizer=tokenizer_fn\n",
    ")\n",
    "\n",
    "results"
   ]
  },
  {
   "cell_type": "code",
   "execution_count": 68,
   "metadata": {},
   "outputs": [
    {
     "name": "stdout",
     "output_type": "stream",
     "text": [
      "ROUGE scores: {'rouge1': 0.17912887668505809, 'rouge2': 0.028097161293787764, 'rougeL': 0.16348095882931798}\n"
     ]
    }
   ],
   "source": [
    "from rouge_score import rouge_scorer\n",
    "\n",
    "# Adjust the function to ensure `references` is a list of single strings\n",
    "def compute_rouge(predictions, references):\n",
    "    scorer = rouge_scorer.RougeScorer(['rouge1', 'rouge2', 'rougeL'], use_stemmer=True)\n",
    "    \n",
    "    # Initialize score counters\n",
    "    scores = {\"rouge1\": 0, \"rouge2\": 0, \"rougeL\": 0}\n",
    "    count = len(predictions)\n",
    "    \n",
    "    for pred, ref in zip(predictions, references):\n",
    "        # Score method expects both pred and ref to be single strings\n",
    "        score = scorer.score(ref, pred)\n",
    "        for key in scores.keys():\n",
    "            scores[key] += score[key].fmeasure\n",
    "    \n",
    "    # Average scores\n",
    "    for key in scores.keys():\n",
    "        scores[key] /= count\n",
    "    \n",
    "    return scores\n",
    "\n",
    "# Prepare predictions and references\n",
    "# Ensure references are in string format\n",
    "predictions = [\" \".join(translation[0][1:-1]) for translation in translations]\n",
    "references = [example[\"en\"] for example in test_data]  # Ensure this is a list of strings\n",
    "\n",
    "# Compute ROUGE scores\n",
    "rouge_scores = compute_rouge(predictions, references)\n",
    "print(f\"ROUGE scores: {rouge_scores}\")"
   ]
  }
 ],
 "metadata": {
  "kernelspec": {
   "display_name": "Python 3",
   "language": "python",
   "name": "python3"
  },
  "language_info": {
   "codemirror_mode": {
    "name": "ipython",
    "version": 3
   },
   "file_extension": ".py",
   "mimetype": "text/x-python",
   "name": "python",
   "nbconvert_exporter": "python",
   "pygments_lexer": "ipython3",
   "version": "3.10.0"
  }
 },
 "nbformat": 4,
 "nbformat_minor": 2
}
